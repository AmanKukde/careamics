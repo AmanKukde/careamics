{
 "cells": [
  {
   "cell_type": "code",
   "execution_count": 1,
   "metadata": {},
   "outputs": [],
   "source": [
    "import os\n",
    "import pprint\n",
    "import shutil\n",
    "import time\n",
    "from pathlib import Path\n",
    "import numpy as np\n",
    "from typing import List, Tuple, Union, Optional, Callable, Any, Dict, Generator\n",
    "from itertools import islice\n",
    "\n",
    "import matplotlib.pyplot as plt\n",
    "import zarr\n",
    "from ome_zarr.reader import Reader\n",
    "from ome_zarr.io import parse_url\n",
    "from ome_zarr.writer import write_image\n",
    "import tifffile\n",
    "from matplotlib.pyplot import imshow\n",
    "\n",
    "from torch.utils.data import DataLoader, Dataset, IterableDataset, get_worker_info\n"
   ]
  },
  {
   "cell_type": "code",
   "execution_count": null,
   "metadata": {},
   "outputs": [],
   "source": []
  },
  {
   "cell_type": "code",
   "execution_count": 117,
   "metadata": {},
   "outputs": [
    {
     "data": {
      "text/plain": [
       "[]"
      ]
     },
     "execution_count": 117,
     "metadata": {},
     "output_type": "execute_result"
    }
   ],
   "source": [
    "path = \"/localscratch/data/test_ngff_image.zarr\"\n",
    "os.mkdir(path)\n",
    "\n",
    "size_xy = 457\n",
    "size_z = 23\n",
    "chunk_size_xy = 128\n",
    "chunk_size_z = 1\n",
    "rng = np.random.default_rng(0)\n",
    "data = rng.poisson(lam=10, size=(size_z, size_xy, size_xy)).astype(np.uint8)\n",
    "\n",
    "# write the image data\n",
    "store = parse_url(path, mode=\"w\").store\n",
    "root = zarr.group(store=store)\n",
    "write_image(image=data, group=root, axes=\"zyx\", storage_options=dict(chunks=(chunk_size_z, chunk_size_xy, chunk_size_xy)), scaler=None)"
   ]
  },
  {
   "cell_type": "code",
   "execution_count": 3,
   "metadata": {},
   "outputs": [
    {
     "name": "stderr",
     "output_type": "stream",
     "text": [
      "/localscratch/mamba/envs/cmcs/lib/python3.10/site-packages/zarr/creation.py:614: UserWarning: ignoring keyword argument 'read_only'\n",
      "  compressor, fill_value = _kwargs_compat(compressor, fill_value, kwargs)\n"
     ]
    },
    {
     "data": {
      "text/plain": [
       "[dask.array<from-zarr, shape=(23, 457, 457), dtype=uint8, chunksize=(1, 128, 128), chunktype=numpy.ndarray>]"
      ]
     },
     "execution_count": 3,
     "metadata": {},
     "output_type": "execute_result"
    }
   ],
   "source": [
    "path = \"/localscratch/data/test_ngff_image.zarr\"\n",
    "test_zarr_loc = parse_url(path)\n",
    "test_zarr_loc.exists()\n",
    "test_reader = Reader(test_zarr_loc)\n",
    "test_nodes = list(test_reader())\n",
    "test_nodes[0].data\n"
   ]
  },
  {
   "cell_type": "code",
   "execution_count": 119,
   "metadata": {},
   "outputs": [
    {
     "data": {
      "text/html": [
       "<table>\n",
       "    <tr>\n",
       "        <td>\n",
       "            <table style=\"border-collapse: collapse;\">\n",
       "                <thead>\n",
       "                    <tr>\n",
       "                        <td> </td>\n",
       "                        <th> Array </th>\n",
       "                        <th> Chunk </th>\n",
       "                    </tr>\n",
       "                </thead>\n",
       "                <tbody>\n",
       "                    \n",
       "                    <tr>\n",
       "                        <th> Bytes </th>\n",
       "                        <td> 4.58 MiB </td>\n",
       "                        <td> 16.00 kiB </td>\n",
       "                    </tr>\n",
       "                    \n",
       "                    <tr>\n",
       "                        <th> Shape </th>\n",
       "                        <td> (23, 457, 457) </td>\n",
       "                        <td> (1, 128, 128) </td>\n",
       "                    </tr>\n",
       "                    <tr>\n",
       "                        <th> Dask graph </th>\n",
       "                        <td colspan=\"2\"> 368 chunks in 2 graph layers </td>\n",
       "                    </tr>\n",
       "                    <tr>\n",
       "                        <th> Data type </th>\n",
       "                        <td colspan=\"2\"> uint8 numpy.ndarray </td>\n",
       "                    </tr>\n",
       "                </tbody>\n",
       "            </table>\n",
       "        </td>\n",
       "        <td>\n",
       "        <svg width=\"200\" height=\"190\" style=\"stroke:rgb(0,0,0);stroke-width:1\" >\n",
       "\n",
       "  <!-- Horizontal lines -->\n",
       "  <line x1=\"10\" y1=\"0\" x2=\"30\" y2=\"20\" style=\"stroke-width:2\" />\n",
       "  <line x1=\"10\" y1=\"33\" x2=\"30\" y2=\"53\" />\n",
       "  <line x1=\"10\" y1=\"67\" x2=\"30\" y2=\"87\" />\n",
       "  <line x1=\"10\" y1=\"100\" x2=\"30\" y2=\"121\" />\n",
       "  <line x1=\"10\" y1=\"120\" x2=\"30\" y2=\"140\" style=\"stroke-width:2\" />\n",
       "\n",
       "  <!-- Vertical lines -->\n",
       "  <line x1=\"10\" y1=\"0\" x2=\"10\" y2=\"120\" style=\"stroke-width:2\" />\n",
       "  <line x1=\"10\" y1=\"0\" x2=\"10\" y2=\"120\" />\n",
       "  <line x1=\"11\" y1=\"1\" x2=\"11\" y2=\"121\" />\n",
       "  <line x1=\"12\" y1=\"2\" x2=\"12\" y2=\"122\" />\n",
       "  <line x1=\"13\" y1=\"3\" x2=\"13\" y2=\"123\" />\n",
       "  <line x1=\"15\" y1=\"5\" x2=\"15\" y2=\"125\" />\n",
       "  <line x1=\"16\" y1=\"6\" x2=\"16\" y2=\"126\" />\n",
       "  <line x1=\"17\" y1=\"7\" x2=\"17\" y2=\"127\" />\n",
       "  <line x1=\"17\" y1=\"7\" x2=\"17\" y2=\"127\" />\n",
       "  <line x1=\"18\" y1=\"8\" x2=\"18\" y2=\"128\" />\n",
       "  <line x1=\"20\" y1=\"10\" x2=\"20\" y2=\"130\" />\n",
       "  <line x1=\"21\" y1=\"11\" x2=\"21\" y2=\"131\" />\n",
       "  <line x1=\"22\" y1=\"12\" x2=\"22\" y2=\"132\" />\n",
       "  <line x1=\"23\" y1=\"13\" x2=\"23\" y2=\"133\" />\n",
       "  <line x1=\"24\" y1=\"14\" x2=\"24\" y2=\"134\" />\n",
       "  <line x1=\"25\" y1=\"15\" x2=\"25\" y2=\"135\" />\n",
       "  <line x1=\"26\" y1=\"16\" x2=\"26\" y2=\"136\" />\n",
       "  <line x1=\"27\" y1=\"17\" x2=\"27\" y2=\"137\" />\n",
       "  <line x1=\"28\" y1=\"18\" x2=\"28\" y2=\"138\" />\n",
       "  <line x1=\"30\" y1=\"20\" x2=\"30\" y2=\"140\" style=\"stroke-width:2\" />\n",
       "\n",
       "  <!-- Colored Rectangle -->\n",
       "  <polygon points=\"10.0,0.0 30.318280081719518,20.318280081719518 30.318280081719518,140.3182800817195 10.0,120.0\" style=\"fill:#8B4903A0;stroke-width:0\"/>\n",
       "\n",
       "  <!-- Horizontal lines -->\n",
       "  <line x1=\"10\" y1=\"0\" x2=\"130\" y2=\"0\" style=\"stroke-width:2\" />\n",
       "  <line x1=\"10\" y1=\"0\" x2=\"130\" y2=\"0\" />\n",
       "  <line x1=\"11\" y1=\"1\" x2=\"131\" y2=\"1\" />\n",
       "  <line x1=\"12\" y1=\"2\" x2=\"132\" y2=\"2\" />\n",
       "  <line x1=\"13\" y1=\"3\" x2=\"133\" y2=\"3\" />\n",
       "  <line x1=\"15\" y1=\"5\" x2=\"135\" y2=\"5\" />\n",
       "  <line x1=\"16\" y1=\"6\" x2=\"136\" y2=\"6\" />\n",
       "  <line x1=\"17\" y1=\"7\" x2=\"137\" y2=\"7\" />\n",
       "  <line x1=\"17\" y1=\"7\" x2=\"137\" y2=\"7\" />\n",
       "  <line x1=\"18\" y1=\"8\" x2=\"138\" y2=\"8\" />\n",
       "  <line x1=\"20\" y1=\"10\" x2=\"140\" y2=\"10\" />\n",
       "  <line x1=\"21\" y1=\"11\" x2=\"141\" y2=\"11\" />\n",
       "  <line x1=\"22\" y1=\"12\" x2=\"142\" y2=\"12\" />\n",
       "  <line x1=\"23\" y1=\"13\" x2=\"143\" y2=\"13\" />\n",
       "  <line x1=\"24\" y1=\"14\" x2=\"144\" y2=\"14\" />\n",
       "  <line x1=\"25\" y1=\"15\" x2=\"145\" y2=\"15\" />\n",
       "  <line x1=\"26\" y1=\"16\" x2=\"146\" y2=\"16\" />\n",
       "  <line x1=\"27\" y1=\"17\" x2=\"147\" y2=\"17\" />\n",
       "  <line x1=\"28\" y1=\"18\" x2=\"148\" y2=\"18\" />\n",
       "  <line x1=\"30\" y1=\"20\" x2=\"150\" y2=\"20\" style=\"stroke-width:2\" />\n",
       "\n",
       "  <!-- Vertical lines -->\n",
       "  <line x1=\"10\" y1=\"0\" x2=\"30\" y2=\"20\" style=\"stroke-width:2\" />\n",
       "  <line x1=\"43\" y1=\"0\" x2=\"63\" y2=\"20\" />\n",
       "  <line x1=\"77\" y1=\"0\" x2=\"97\" y2=\"20\" />\n",
       "  <line x1=\"110\" y1=\"0\" x2=\"131\" y2=\"20\" />\n",
       "  <line x1=\"130\" y1=\"0\" x2=\"150\" y2=\"20\" style=\"stroke-width:2\" />\n",
       "\n",
       "  <!-- Colored Rectangle -->\n",
       "  <polygon points=\"10.0,0.0 130.0,0.0 150.3182800817195,20.318280081719518 30.318280081719518,20.318280081719518\" style=\"fill:#8B4903A0;stroke-width:0\"/>\n",
       "\n",
       "  <!-- Horizontal lines -->\n",
       "  <line x1=\"30\" y1=\"20\" x2=\"150\" y2=\"20\" style=\"stroke-width:2\" />\n",
       "  <line x1=\"30\" y1=\"53\" x2=\"150\" y2=\"53\" />\n",
       "  <line x1=\"30\" y1=\"87\" x2=\"150\" y2=\"87\" />\n",
       "  <line x1=\"30\" y1=\"121\" x2=\"150\" y2=\"121\" />\n",
       "  <line x1=\"30\" y1=\"140\" x2=\"150\" y2=\"140\" style=\"stroke-width:2\" />\n",
       "\n",
       "  <!-- Vertical lines -->\n",
       "  <line x1=\"30\" y1=\"20\" x2=\"30\" y2=\"140\" style=\"stroke-width:2\" />\n",
       "  <line x1=\"63\" y1=\"20\" x2=\"63\" y2=\"140\" />\n",
       "  <line x1=\"97\" y1=\"20\" x2=\"97\" y2=\"140\" />\n",
       "  <line x1=\"131\" y1=\"20\" x2=\"131\" y2=\"140\" />\n",
       "  <line x1=\"150\" y1=\"20\" x2=\"150\" y2=\"140\" style=\"stroke-width:2\" />\n",
       "\n",
       "  <!-- Colored Rectangle -->\n",
       "  <polygon points=\"30.318280081719518,20.318280081719518 150.3182800817195,20.318280081719518 150.3182800817195,140.3182800817195 30.318280081719518,140.3182800817195\" style=\"fill:#ECB172A0;stroke-width:0\"/>\n",
       "\n",
       "  <!-- Text -->\n",
       "  <text x=\"90.318280\" y=\"160.318280\" font-size=\"1.0rem\" font-weight=\"100\" text-anchor=\"middle\" >457</text>\n",
       "  <text x=\"170.318280\" y=\"80.318280\" font-size=\"1.0rem\" font-weight=\"100\" text-anchor=\"middle\" transform=\"rotate(-90,170.318280,80.318280)\">457</text>\n",
       "  <text x=\"10.159140\" y=\"150.159140\" font-size=\"1.0rem\" font-weight=\"100\" text-anchor=\"middle\" transform=\"rotate(45,10.159140,150.159140)\">23</text>\n",
       "</svg>\n",
       "        </td>\n",
       "    </tr>\n",
       "</table>"
      ],
      "text/plain": [
       "dask.array<from-zarr, shape=(23, 457, 457), dtype=uint8, chunksize=(1, 128, 128), chunktype=numpy.ndarray>"
      ]
     },
     "execution_count": 119,
     "metadata": {},
     "output_type": "execute_result"
    }
   ],
   "source": [
    "test_nodes[0].data[0]"
   ]
  },
  {
   "cell_type": "code",
   "execution_count": 34,
   "metadata": {},
   "outputs": [
    {
     "data": {
      "text/html": [
       "<table>\n",
       "    <tr>\n",
       "        <td>\n",
       "            <table style=\"border-collapse: collapse;\">\n",
       "                <thead>\n",
       "                    <tr>\n",
       "                        <td> </td>\n",
       "                        <th> Array </th>\n",
       "                        <th> Chunk </th>\n",
       "                    </tr>\n",
       "                </thead>\n",
       "                <tbody>\n",
       "                    \n",
       "                    <tr>\n",
       "                        <th> Bytes </th>\n",
       "                        <td> 160.00 kiB </td>\n",
       "                        <td> 4.00 kiB </td>\n",
       "                    </tr>\n",
       "                    \n",
       "                    <tr>\n",
       "                        <th> Shape </th>\n",
       "                        <td> (10, 128, 128) </td>\n",
       "                        <td> (1, 64, 64) </td>\n",
       "                    </tr>\n",
       "                    <tr>\n",
       "                        <th> Dask graph </th>\n",
       "                        <td colspan=\"2\"> 40 chunks in 3 graph layers </td>\n",
       "                    </tr>\n",
       "                    <tr>\n",
       "                        <th> Data type </th>\n",
       "                        <td colspan=\"2\"> uint8 numpy.ndarray </td>\n",
       "                    </tr>\n",
       "                </tbody>\n",
       "            </table>\n",
       "        </td>\n",
       "        <td>\n",
       "        <svg width=\"201\" height=\"191\" style=\"stroke:rgb(0,0,0);stroke-width:1\" >\n",
       "\n",
       "  <!-- Horizontal lines -->\n",
       "  <line x1=\"10\" y1=\"0\" x2=\"31\" y2=\"21\" style=\"stroke-width:2\" />\n",
       "  <line x1=\"10\" y1=\"60\" x2=\"31\" y2=\"81\" />\n",
       "  <line x1=\"10\" y1=\"120\" x2=\"31\" y2=\"141\" style=\"stroke-width:2\" />\n",
       "\n",
       "  <!-- Vertical lines -->\n",
       "  <line x1=\"10\" y1=\"0\" x2=\"10\" y2=\"120\" style=\"stroke-width:2\" />\n",
       "  <line x1=\"12\" y1=\"2\" x2=\"12\" y2=\"122\" />\n",
       "  <line x1=\"14\" y1=\"4\" x2=\"14\" y2=\"124\" />\n",
       "  <line x1=\"16\" y1=\"6\" x2=\"16\" y2=\"126\" />\n",
       "  <line x1=\"18\" y1=\"8\" x2=\"18\" y2=\"128\" />\n",
       "  <line x1=\"20\" y1=\"10\" x2=\"20\" y2=\"130\" />\n",
       "  <line x1=\"23\" y1=\"13\" x2=\"23\" y2=\"133\" />\n",
       "  <line x1=\"25\" y1=\"15\" x2=\"25\" y2=\"135\" />\n",
       "  <line x1=\"27\" y1=\"17\" x2=\"27\" y2=\"137\" />\n",
       "  <line x1=\"29\" y1=\"19\" x2=\"29\" y2=\"139\" />\n",
       "  <line x1=\"31\" y1=\"21\" x2=\"31\" y2=\"141\" style=\"stroke-width:2\" />\n",
       "\n",
       "  <!-- Colored Rectangle -->\n",
       "  <polygon points=\"10.0,0.0 31.87531700139571,21.87531700139571 31.87531700139571,141.8753170013957 10.0,120.0\" style=\"fill:#ECB172A0;stroke-width:0\"/>\n",
       "\n",
       "  <!-- Horizontal lines -->\n",
       "  <line x1=\"10\" y1=\"0\" x2=\"130\" y2=\"0\" style=\"stroke-width:2\" />\n",
       "  <line x1=\"12\" y1=\"2\" x2=\"132\" y2=\"2\" />\n",
       "  <line x1=\"14\" y1=\"4\" x2=\"134\" y2=\"4\" />\n",
       "  <line x1=\"16\" y1=\"6\" x2=\"136\" y2=\"6\" />\n",
       "  <line x1=\"18\" y1=\"8\" x2=\"138\" y2=\"8\" />\n",
       "  <line x1=\"20\" y1=\"10\" x2=\"140\" y2=\"10\" />\n",
       "  <line x1=\"23\" y1=\"13\" x2=\"143\" y2=\"13\" />\n",
       "  <line x1=\"25\" y1=\"15\" x2=\"145\" y2=\"15\" />\n",
       "  <line x1=\"27\" y1=\"17\" x2=\"147\" y2=\"17\" />\n",
       "  <line x1=\"29\" y1=\"19\" x2=\"149\" y2=\"19\" />\n",
       "  <line x1=\"31\" y1=\"21\" x2=\"151\" y2=\"21\" style=\"stroke-width:2\" />\n",
       "\n",
       "  <!-- Vertical lines -->\n",
       "  <line x1=\"10\" y1=\"0\" x2=\"31\" y2=\"21\" style=\"stroke-width:2\" />\n",
       "  <line x1=\"70\" y1=\"0\" x2=\"91\" y2=\"21\" />\n",
       "  <line x1=\"130\" y1=\"0\" x2=\"151\" y2=\"21\" style=\"stroke-width:2\" />\n",
       "\n",
       "  <!-- Colored Rectangle -->\n",
       "  <polygon points=\"10.0,0.0 130.0,0.0 151.8753170013957,21.87531700139571 31.87531700139571,21.87531700139571\" style=\"fill:#ECB172A0;stroke-width:0\"/>\n",
       "\n",
       "  <!-- Horizontal lines -->\n",
       "  <line x1=\"31\" y1=\"21\" x2=\"151\" y2=\"21\" style=\"stroke-width:2\" />\n",
       "  <line x1=\"31\" y1=\"81\" x2=\"151\" y2=\"81\" />\n",
       "  <line x1=\"31\" y1=\"141\" x2=\"151\" y2=\"141\" style=\"stroke-width:2\" />\n",
       "\n",
       "  <!-- Vertical lines -->\n",
       "  <line x1=\"31\" y1=\"21\" x2=\"31\" y2=\"141\" style=\"stroke-width:2\" />\n",
       "  <line x1=\"91\" y1=\"21\" x2=\"91\" y2=\"141\" />\n",
       "  <line x1=\"151\" y1=\"21\" x2=\"151\" y2=\"141\" style=\"stroke-width:2\" />\n",
       "\n",
       "  <!-- Colored Rectangle -->\n",
       "  <polygon points=\"31.87531700139571,21.87531700139571 151.8753170013957,21.87531700139571 151.8753170013957,141.8753170013957 31.87531700139571,141.8753170013957\" style=\"fill:#ECB172A0;stroke-width:0\"/>\n",
       "\n",
       "  <!-- Text -->\n",
       "  <text x=\"91.875317\" y=\"161.875317\" font-size=\"1.0rem\" font-weight=\"100\" text-anchor=\"middle\" >128</text>\n",
       "  <text x=\"171.875317\" y=\"81.875317\" font-size=\"1.0rem\" font-weight=\"100\" text-anchor=\"middle\" transform=\"rotate(-90,171.875317,81.875317)\">128</text>\n",
       "  <text x=\"10.937659\" y=\"150.937659\" font-size=\"1.0rem\" font-weight=\"100\" text-anchor=\"middle\" transform=\"rotate(45,10.937659,150.937659)\">10</text>\n",
       "</svg>\n",
       "        </td>\n",
       "    </tr>\n",
       "</table>"
      ],
      "text/plain": [
       "dask.array<rechunk-merge, shape=(10, 128, 128), dtype=uint8, chunksize=(1, 64, 64), chunktype=numpy.ndarray>"
      ]
     },
     "execution_count": 34,
     "metadata": {},
     "output_type": "execute_result"
    }
   ],
   "source": [
    "m[0].rechunk((1, 64, 64))"
   ]
  },
  {
   "cell_type": "code",
   "execution_count": 35,
   "metadata": {},
   "outputs": [
    {
     "data": {
      "text/html": [
       "<table>\n",
       "    <tr>\n",
       "        <td>\n",
       "            <table style=\"border-collapse: collapse;\">\n",
       "                <thead>\n",
       "                    <tr>\n",
       "                        <td> </td>\n",
       "                        <th> Array </th>\n",
       "                        <th> Chunk </th>\n",
       "                    </tr>\n",
       "                </thead>\n",
       "                <tbody>\n",
       "                    \n",
       "                    <tr>\n",
       "                        <th> Bytes </th>\n",
       "                        <td> 160.00 kiB </td>\n",
       "                        <td> 16.00 kiB </td>\n",
       "                    </tr>\n",
       "                    \n",
       "                    <tr>\n",
       "                        <th> Shape </th>\n",
       "                        <td> (10, 128, 128) </td>\n",
       "                        <td> (1, 128, 128) </td>\n",
       "                    </tr>\n",
       "                    <tr>\n",
       "                        <th> Dask graph </th>\n",
       "                        <td colspan=\"2\"> 10 chunks in 2 graph layers </td>\n",
       "                    </tr>\n",
       "                    <tr>\n",
       "                        <th> Data type </th>\n",
       "                        <td colspan=\"2\"> uint8 numpy.ndarray </td>\n",
       "                    </tr>\n",
       "                </tbody>\n",
       "            </table>\n",
       "        </td>\n",
       "        <td>\n",
       "        <svg width=\"201\" height=\"191\" style=\"stroke:rgb(0,0,0);stroke-width:1\" >\n",
       "\n",
       "  <!-- Horizontal lines -->\n",
       "  <line x1=\"10\" y1=\"0\" x2=\"31\" y2=\"21\" style=\"stroke-width:2\" />\n",
       "  <line x1=\"10\" y1=\"120\" x2=\"31\" y2=\"141\" style=\"stroke-width:2\" />\n",
       "\n",
       "  <!-- Vertical lines -->\n",
       "  <line x1=\"10\" y1=\"0\" x2=\"10\" y2=\"120\" style=\"stroke-width:2\" />\n",
       "  <line x1=\"12\" y1=\"2\" x2=\"12\" y2=\"122\" />\n",
       "  <line x1=\"14\" y1=\"4\" x2=\"14\" y2=\"124\" />\n",
       "  <line x1=\"16\" y1=\"6\" x2=\"16\" y2=\"126\" />\n",
       "  <line x1=\"18\" y1=\"8\" x2=\"18\" y2=\"128\" />\n",
       "  <line x1=\"20\" y1=\"10\" x2=\"20\" y2=\"130\" />\n",
       "  <line x1=\"23\" y1=\"13\" x2=\"23\" y2=\"133\" />\n",
       "  <line x1=\"25\" y1=\"15\" x2=\"25\" y2=\"135\" />\n",
       "  <line x1=\"27\" y1=\"17\" x2=\"27\" y2=\"137\" />\n",
       "  <line x1=\"29\" y1=\"19\" x2=\"29\" y2=\"139\" />\n",
       "  <line x1=\"31\" y1=\"21\" x2=\"31\" y2=\"141\" style=\"stroke-width:2\" />\n",
       "\n",
       "  <!-- Colored Rectangle -->\n",
       "  <polygon points=\"10.0,0.0 31.87531700139571,21.87531700139571 31.87531700139571,141.8753170013957 10.0,120.0\" style=\"fill:#ECB172A0;stroke-width:0\"/>\n",
       "\n",
       "  <!-- Horizontal lines -->\n",
       "  <line x1=\"10\" y1=\"0\" x2=\"130\" y2=\"0\" style=\"stroke-width:2\" />\n",
       "  <line x1=\"12\" y1=\"2\" x2=\"132\" y2=\"2\" />\n",
       "  <line x1=\"14\" y1=\"4\" x2=\"134\" y2=\"4\" />\n",
       "  <line x1=\"16\" y1=\"6\" x2=\"136\" y2=\"6\" />\n",
       "  <line x1=\"18\" y1=\"8\" x2=\"138\" y2=\"8\" />\n",
       "  <line x1=\"20\" y1=\"10\" x2=\"140\" y2=\"10\" />\n",
       "  <line x1=\"23\" y1=\"13\" x2=\"143\" y2=\"13\" />\n",
       "  <line x1=\"25\" y1=\"15\" x2=\"145\" y2=\"15\" />\n",
       "  <line x1=\"27\" y1=\"17\" x2=\"147\" y2=\"17\" />\n",
       "  <line x1=\"29\" y1=\"19\" x2=\"149\" y2=\"19\" />\n",
       "  <line x1=\"31\" y1=\"21\" x2=\"151\" y2=\"21\" style=\"stroke-width:2\" />\n",
       "\n",
       "  <!-- Vertical lines -->\n",
       "  <line x1=\"10\" y1=\"0\" x2=\"31\" y2=\"21\" style=\"stroke-width:2\" />\n",
       "  <line x1=\"130\" y1=\"0\" x2=\"151\" y2=\"21\" style=\"stroke-width:2\" />\n",
       "\n",
       "  <!-- Colored Rectangle -->\n",
       "  <polygon points=\"10.0,0.0 130.0,0.0 151.8753170013957,21.87531700139571 31.87531700139571,21.87531700139571\" style=\"fill:#ECB172A0;stroke-width:0\"/>\n",
       "\n",
       "  <!-- Horizontal lines -->\n",
       "  <line x1=\"31\" y1=\"21\" x2=\"151\" y2=\"21\" style=\"stroke-width:2\" />\n",
       "  <line x1=\"31\" y1=\"141\" x2=\"151\" y2=\"141\" style=\"stroke-width:2\" />\n",
       "\n",
       "  <!-- Vertical lines -->\n",
       "  <line x1=\"31\" y1=\"21\" x2=\"31\" y2=\"141\" style=\"stroke-width:2\" />\n",
       "  <line x1=\"151\" y1=\"21\" x2=\"151\" y2=\"141\" style=\"stroke-width:2\" />\n",
       "\n",
       "  <!-- Colored Rectangle -->\n",
       "  <polygon points=\"31.87531700139571,21.87531700139571 151.8753170013957,21.87531700139571 151.8753170013957,141.8753170013957 31.87531700139571,141.8753170013957\" style=\"fill:#ECB172A0;stroke-width:0\"/>\n",
       "\n",
       "  <!-- Text -->\n",
       "  <text x=\"91.875317\" y=\"161.875317\" font-size=\"1.0rem\" font-weight=\"100\" text-anchor=\"middle\" >128</text>\n",
       "  <text x=\"171.875317\" y=\"81.875317\" font-size=\"1.0rem\" font-weight=\"100\" text-anchor=\"middle\" transform=\"rotate(-90,171.875317,81.875317)\">128</text>\n",
       "  <text x=\"10.937659\" y=\"150.937659\" font-size=\"1.0rem\" font-weight=\"100\" text-anchor=\"middle\" transform=\"rotate(45,10.937659,150.937659)\">10</text>\n",
       "</svg>\n",
       "        </td>\n",
       "    </tr>\n",
       "</table>"
      ],
      "text/plain": [
       "dask.array<from-zarr, shape=(10, 128, 128), dtype=uint8, chunksize=(1, 128, 128), chunktype=numpy.ndarray>"
      ]
     },
     "execution_count": 35,
     "metadata": {},
     "output_type": "execute_result"
    }
   ],
   "source": []
  },
  {
   "cell_type": "code",
   "execution_count": 38,
   "metadata": {},
   "outputs": [
    {
     "data": {
      "text/plain": [
       "(10, 128, 128)"
      ]
     },
     "execution_count": 38,
     "metadata": {},
     "output_type": "execute_result"
    }
   ],
   "source": [
    "m[0].compute()"
   ]
  },
  {
   "cell_type": "code",
   "execution_count": 3,
   "metadata": {},
   "outputs": [],
   "source": [
    "import zarr"
   ]
  },
  {
   "cell_type": "code",
   "execution_count": 85,
   "metadata": {},
   "outputs": [],
   "source": [
    "zarr_dir = '/localscratch/data/ftp.ebi.ac.uk/pub/databases/IDR/idr0138-lohoff-seqfish/20210917-Globus/ngff/TimEmbryos-102219/HybCycle_0'\n",
    "data_path = '/localscratch/data/ftp.ebi.ac.uk/pub/databases/IDR/idr0138-lohoff-seqfish/20210917-Globus/ngff/TimEmbryos-102219/HybCycle_0/MMStack_Pos0.ome.zarr'\n",
    "\n",
    "zarr_loc = parse_url(data_path)"
   ]
  },
  {
   "cell_type": "code",
   "execution_count": 13,
   "metadata": {},
   "outputs": [],
   "source": [
    "fs = zarr.storage.FSStore(data_path)\n",
    "\n",
    "\n",
    "z = zarr.open(store=fs, mode='r')"
   ]
  },
  {
   "cell_type": "code",
   "execution_count": null,
   "metadata": {},
   "outputs": [],
   "source": [
    "# List all subdirectories ending with '.zarr'\n",
    "zarr_paths = [\n",
    "    os.path.join(zarr_dir, name)\n",
    "    for name in os.listdir(zarr_dir)\n",
    "    if os.path.isdir(os.path.join(zarr_dir, name)) and name.endswith('.zarr')\n",
    "]\n"
   ]
  },
  {
   "cell_type": "code",
   "execution_count": 86,
   "metadata": {},
   "outputs": [
    {
     "data": {
      "text/plain": [
       "/localscratch/data/ftp.ebi.ac.uk/pub/databases/IDR/idr0138-lohoff-seqfish/20210917-Globus/ngff/TimEmbryos-102219/HybCycle_0/MMStack_Pos0.ome.zarr [zgroup]"
      ]
     },
     "execution_count": 86,
     "metadata": {},
     "output_type": "execute_result"
    }
   ],
   "source": [
    "zarr_loc"
   ]
  },
  {
   "cell_type": "code",
   "execution_count": 87,
   "metadata": {},
   "outputs": [
    {
     "data": {
      "text/plain": [
       "True"
      ]
     },
     "execution_count": 87,
     "metadata": {},
     "output_type": "execute_result"
    }
   ],
   "source": [
    "zarr_loc.exists()\n"
   ]
  },
  {
   "cell_type": "code",
   "execution_count": 88,
   "metadata": {},
   "outputs": [],
   "source": [
    "reader = Reader(zarr_loc)"
   ]
  },
  {
   "cell_type": "code",
   "execution_count": 89,
   "metadata": {},
   "outputs": [
    {
     "name": "stderr",
     "output_type": "stream",
     "text": [
      "/localscratch/mamba/envs/cmcs/lib/python3.10/site-packages/zarr/creation.py:614: UserWarning: ignoring keyword argument 'read_only'\n",
      "  compressor, fill_value = _kwargs_compat(compressor, fill_value, kwargs)\n",
      "no parent found for <ome_zarr.reader.Label object at 0x7f343ff15c60>: None\n"
     ]
    },
    {
     "name": "stderr",
     "output_type": "stream",
     "text": [
      "no parent found for <ome_zarr.reader.Label object at 0x7f343ff15ea0>: None\n"
     ]
    }
   ],
   "source": [
    "nodes = list(reader())"
   ]
  },
  {
   "cell_type": "code",
   "execution_count": 90,
   "metadata": {},
   "outputs": [
    {
     "data": {
      "text/plain": [
       "[/localscratch/data/ftp.ebi.ac.uk/pub/databases/IDR/idr0138-lohoff-seqfish/20210917-Globus/ngff/TimEmbryos-102219/HybCycle_0/MMStack_Pos0.ome.zarr [zgroup],\n",
       " /localscratch/data/ftp.ebi.ac.uk/pub/databases/IDR/idr0138-lohoff-seqfish/20210917-Globus/ngff/TimEmbryos-102219/HybCycle_0/MMStack_Pos0.ome.zarr/labels [zgroup] (hidden),\n",
       " /localscratch/data/ftp.ebi.ac.uk/pub/databases/IDR/idr0138-lohoff-seqfish/20210917-Globus/ngff/TimEmbryos-102219/HybCycle_0/MMStack_Pos0.ome.zarr/labels/cells [zgroup] (hidden),\n",
       " /localscratch/data/ftp.ebi.ac.uk/pub/databases/IDR/idr0138-lohoff-seqfish/20210917-Globus/ngff/TimEmbryos-102219/HybCycle_0/MMStack_Pos0.ome.zarr/labels/nuclei [zgroup] (hidden)]"
      ]
     },
     "execution_count": 90,
     "metadata": {},
     "output_type": "execute_result"
    }
   ],
   "source": [
    "nodes"
   ]
  },
  {
   "cell_type": "code",
   "execution_count": 37,
   "metadata": {},
   "outputs": [],
   "source": [
    "# fnr = nodes[0].data[0].rechunk((1, 1, 64, 64))"
   ]
  },
  {
   "cell_type": "code",
   "execution_count": 91,
   "metadata": {},
   "outputs": [
    {
     "data": {
      "text/html": [
       "<table>\n",
       "    <tr>\n",
       "        <td>\n",
       "            <table style=\"border-collapse: collapse;\">\n",
       "                <thead>\n",
       "                    <tr>\n",
       "                        <td> </td>\n",
       "                        <th> Array </th>\n",
       "                        <th> Chunk </th>\n",
       "                    </tr>\n",
       "                </thead>\n",
       "                <tbody>\n",
       "                    \n",
       "                    <tr>\n",
       "                        <th> Bytes </th>\n",
       "                        <td> 192.00 MiB </td>\n",
       "                        <td> 512.00 kiB </td>\n",
       "                    </tr>\n",
       "                    \n",
       "                    <tr>\n",
       "                        <th> Shape </th>\n",
       "                        <td> (4, 6, 2048, 2048) </td>\n",
       "                        <td> (1, 1, 512, 512) </td>\n",
       "                    </tr>\n",
       "                    <tr>\n",
       "                        <th> Dask graph </th>\n",
       "                        <td colspan=\"2\"> 384 chunks in 2 graph layers </td>\n",
       "                    </tr>\n",
       "                    <tr>\n",
       "                        <th> Data type </th>\n",
       "                        <td colspan=\"2\"> uint16 numpy.ndarray </td>\n",
       "                    </tr>\n",
       "                </tbody>\n",
       "            </table>\n",
       "        </td>\n",
       "        <td>\n",
       "        <svg width=\"374\" height=\"184\" style=\"stroke:rgb(0,0,0);stroke-width:1\" >\n",
       "\n",
       "  <!-- Horizontal lines -->\n",
       "  <line x1=\"0\" y1=\"0\" x2=\"25\" y2=\"0\" style=\"stroke-width:2\" />\n",
       "  <line x1=\"0\" y1=\"25\" x2=\"25\" y2=\"25\" style=\"stroke-width:2\" />\n",
       "\n",
       "  <!-- Vertical lines -->\n",
       "  <line x1=\"0\" y1=\"0\" x2=\"0\" y2=\"25\" style=\"stroke-width:2\" />\n",
       "  <line x1=\"6\" y1=\"0\" x2=\"6\" y2=\"25\" />\n",
       "  <line x1=\"12\" y1=\"0\" x2=\"12\" y2=\"25\" />\n",
       "  <line x1=\"19\" y1=\"0\" x2=\"19\" y2=\"25\" />\n",
       "  <line x1=\"25\" y1=\"0\" x2=\"25\" y2=\"25\" style=\"stroke-width:2\" />\n",
       "\n",
       "  <!-- Colored Rectangle -->\n",
       "  <polygon points=\"0.0,0.0 25.412616514582485,0.0 25.412616514582485,25.412616514582485 0.0,25.412616514582485\" style=\"fill:#ECB172A0;stroke-width:0\"/>\n",
       "\n",
       "  <!-- Text -->\n",
       "  <text x=\"12.706308\" y=\"45.412617\" font-size=\"1.0rem\" font-weight=\"100\" text-anchor=\"middle\" >4</text>\n",
       "  <text x=\"45.412617\" y=\"12.706308\" font-size=\"1.0rem\" font-weight=\"100\" text-anchor=\"middle\" transform=\"rotate(0,45.412617,12.706308)\">1</text>\n",
       "\n",
       "\n",
       "  <!-- Horizontal lines -->\n",
       "  <line x1=\"95\" y1=\"0\" x2=\"109\" y2=\"14\" style=\"stroke-width:2\" />\n",
       "  <line x1=\"95\" y1=\"30\" x2=\"109\" y2=\"44\" />\n",
       "  <line x1=\"95\" y1=\"60\" x2=\"109\" y2=\"74\" />\n",
       "  <line x1=\"95\" y1=\"90\" x2=\"109\" y2=\"104\" />\n",
       "  <line x1=\"95\" y1=\"120\" x2=\"109\" y2=\"134\" style=\"stroke-width:2\" />\n",
       "\n",
       "  <!-- Vertical lines -->\n",
       "  <line x1=\"95\" y1=\"0\" x2=\"95\" y2=\"120\" style=\"stroke-width:2\" />\n",
       "  <line x1=\"97\" y1=\"2\" x2=\"97\" y2=\"122\" />\n",
       "  <line x1=\"99\" y1=\"4\" x2=\"99\" y2=\"124\" />\n",
       "  <line x1=\"102\" y1=\"7\" x2=\"102\" y2=\"127\" />\n",
       "  <line x1=\"104\" y1=\"9\" x2=\"104\" y2=\"129\" />\n",
       "  <line x1=\"107\" y1=\"12\" x2=\"107\" y2=\"132\" />\n",
       "  <line x1=\"109\" y1=\"14\" x2=\"109\" y2=\"134\" style=\"stroke-width:2\" />\n",
       "\n",
       "  <!-- Colored Rectangle -->\n",
       "  <polygon points=\"95.0,0.0 109.9485979497544,14.948597949754403 109.9485979497544,134.9485979497544 95.0,120.0\" style=\"fill:#ECB172A0;stroke-width:0\"/>\n",
       "\n",
       "  <!-- Horizontal lines -->\n",
       "  <line x1=\"95\" y1=\"0\" x2=\"215\" y2=\"0\" style=\"stroke-width:2\" />\n",
       "  <line x1=\"97\" y1=\"2\" x2=\"217\" y2=\"2\" />\n",
       "  <line x1=\"99\" y1=\"4\" x2=\"219\" y2=\"4\" />\n",
       "  <line x1=\"102\" y1=\"7\" x2=\"222\" y2=\"7\" />\n",
       "  <line x1=\"104\" y1=\"9\" x2=\"224\" y2=\"9\" />\n",
       "  <line x1=\"107\" y1=\"12\" x2=\"227\" y2=\"12\" />\n",
       "  <line x1=\"109\" y1=\"14\" x2=\"229\" y2=\"14\" style=\"stroke-width:2\" />\n",
       "\n",
       "  <!-- Vertical lines -->\n",
       "  <line x1=\"95\" y1=\"0\" x2=\"109\" y2=\"14\" style=\"stroke-width:2\" />\n",
       "  <line x1=\"125\" y1=\"0\" x2=\"139\" y2=\"14\" />\n",
       "  <line x1=\"155\" y1=\"0\" x2=\"169\" y2=\"14\" />\n",
       "  <line x1=\"185\" y1=\"0\" x2=\"199\" y2=\"14\" />\n",
       "  <line x1=\"215\" y1=\"0\" x2=\"229\" y2=\"14\" style=\"stroke-width:2\" />\n",
       "\n",
       "  <!-- Colored Rectangle -->\n",
       "  <polygon points=\"95.0,0.0 215.0,0.0 229.9485979497544,14.948597949754403 109.9485979497544,14.948597949754403\" style=\"fill:#ECB172A0;stroke-width:0\"/>\n",
       "\n",
       "  <!-- Horizontal lines -->\n",
       "  <line x1=\"109\" y1=\"14\" x2=\"229\" y2=\"14\" style=\"stroke-width:2\" />\n",
       "  <line x1=\"109\" y1=\"44\" x2=\"229\" y2=\"44\" />\n",
       "  <line x1=\"109\" y1=\"74\" x2=\"229\" y2=\"74\" />\n",
       "  <line x1=\"109\" y1=\"104\" x2=\"229\" y2=\"104\" />\n",
       "  <line x1=\"109\" y1=\"134\" x2=\"229\" y2=\"134\" style=\"stroke-width:2\" />\n",
       "\n",
       "  <!-- Vertical lines -->\n",
       "  <line x1=\"109\" y1=\"14\" x2=\"109\" y2=\"134\" style=\"stroke-width:2\" />\n",
       "  <line x1=\"139\" y1=\"14\" x2=\"139\" y2=\"134\" />\n",
       "  <line x1=\"169\" y1=\"14\" x2=\"169\" y2=\"134\" />\n",
       "  <line x1=\"199\" y1=\"14\" x2=\"199\" y2=\"134\" />\n",
       "  <line x1=\"229\" y1=\"14\" x2=\"229\" y2=\"134\" style=\"stroke-width:2\" />\n",
       "\n",
       "  <!-- Colored Rectangle -->\n",
       "  <polygon points=\"109.9485979497544,14.948597949754403 229.9485979497544,14.948597949754403 229.9485979497544,134.9485979497544 109.9485979497544,134.9485979497544\" style=\"fill:#ECB172A0;stroke-width:0\"/>\n",
       "\n",
       "  <!-- Text -->\n",
       "  <text x=\"169.948598\" y=\"154.948598\" font-size=\"1.0rem\" font-weight=\"100\" text-anchor=\"middle\" >2048</text>\n",
       "  <text x=\"249.948598\" y=\"74.948598\" font-size=\"1.0rem\" font-weight=\"100\" text-anchor=\"middle\" transform=\"rotate(-90,249.948598,74.948598)\">2048</text>\n",
       "  <text x=\"92.474299\" y=\"147.474299\" font-size=\"1.0rem\" font-weight=\"100\" text-anchor=\"middle\" transform=\"rotate(45,92.474299,147.474299)\">6</text>\n",
       "</svg>\n",
       "        </td>\n",
       "    </tr>\n",
       "</table>"
      ],
      "text/plain": [
       "dask.array<from-zarr, shape=(4, 6, 2048, 2048), dtype=uint16, chunksize=(1, 1, 512, 512), chunktype=numpy.ndarray>"
      ]
     },
     "execution_count": 91,
     "metadata": {},
     "output_type": "execute_result"
    }
   ],
   "source": [
    "nodes[0].data[0]"
   ]
  },
  {
   "cell_type": "code",
   "execution_count": 11,
   "metadata": {},
   "outputs": [],
   "source": [
    "imn = nodes[0].data[0].compute()\n"
   ]
  },
  {
   "cell_type": "code",
   "execution_count": 67,
   "metadata": {},
   "outputs": [
    {
     "data": {
      "text/plain": [
       "(1, 1, 1, 1024, 1024)"
      ]
     },
     "execution_count": 67,
     "metadata": {},
     "output_type": "execute_result"
    }
   ],
   "source": [
    "nodes[0].data[0].chunksize"
   ]
  },
  {
   "cell_type": "code",
   "execution_count": 60,
   "metadata": {},
   "outputs": [
    {
     "data": {
      "text/plain": [
       "<matplotlib.image.AxesImage at 0x7f71744a4820>"
      ]
     },
     "execution_count": 60,
     "metadata": {},
     "output_type": "execute_result"
    },
    {
     "data": {
      "image/png": "[encoded data removed]",
      "text/plain": [
       "<Figure size 640x480 with 1 Axes>"
      ]
     },
     "metadata": {},
     "output_type": "display_data"
    }
   ],
   "source": [
    "plt.imshow(imn[0, 0, 512:1024, 512:1024])"
   ]
  },
  {
   "cell_type": "code",
   "execution_count": 14,
   "metadata": {},
   "outputs": [
    {
     "data": {
      "text/plain": [
       "{'axes': [{'name': 'c', 'type': 'channel'},\n",
       "  {'name': 'z', 'type': 'space', 'unit': 'micrometer'},\n",
       "  {'name': 'y', 'type': 'space', 'unit': 'micrometer'},\n",
       "  {'name': 'x', 'type': 'space', 'unit': 'micrometer'}],\n",
       " 'name': 'image',\n",
       " 'coordinateTransformations': [[{'scale': [1.0, 4.0, 0.11, 0.11],\n",
       "    'type': 'scale'}],\n",
       "  [{'scale': [1.0, 4.0, 0.22, 0.22], 'type': 'scale'}],\n",
       "  [{'scale': [1.0, 4.0, 0.44, 0.44], 'type': 'scale'}],\n",
       "  [{'scale': [1.0, 4.0, 0.88, 0.88], 'type': 'scale'}],\n",
       "  [{'scale': [1.0, 4.0, 1.76, 1.76], 'type': 'scale'}]]}"
      ]
     },
     "execution_count": 14,
     "metadata": {},
     "output_type": "execute_result"
    }
   ],
   "source": [
    "nodes[0].metadata"
   ]
  },
  {
   "cell_type": "code",
   "execution_count": 69,
   "metadata": {},
   "outputs": [
    {
     "name": "stderr",
     "output_type": "stream",
     "text": [
      "/localscratch/mamba/envs/cmcs/lib/python3.10/site-packages/zarr/creation.py:614: UserWarning: ignoring keyword argument 'read_only'\n",
      "  compressor, fill_value = _kwargs_compat(compressor, fill_value, kwargs)\n"
     ]
    }
   ],
   "source": [
    "url = \"https://uk1s3.embassy.ebi.ac.uk/bia-integrator-data/EMPIAR-10310/IM1/IM1.zarr/0\"\n",
    "\n",
    "# read the image data\n",
    "store = parse_url(url, mode=\"r\").store\n",
    "\n",
    "reader = Reader(parse_url(url))\n",
    "# nodes may include images, labels etc\n",
    "nodes = list(reader())\n",
    "# first node will be the image pixel data\n",
    "image_node = nodes[0]\n",
    "\n",
    "dask_data = image_node.data"
   ]
  },
  {
   "cell_type": "code",
   "execution_count": 72,
   "metadata": {},
   "outputs": [
    {
     "data": {
      "text/html": [
       "<table>\n",
       "    <tr>\n",
       "        <td>\n",
       "            <table style=\"border-collapse: collapse;\">\n",
       "                <thead>\n",
       "                    <tr>\n",
       "                        <td> </td>\n",
       "                        <th> Array </th>\n",
       "                        <th> Chunk </th>\n",
       "                    </tr>\n",
       "                </thead>\n",
       "                <tbody>\n",
       "                    \n",
       "                    <tr>\n",
       "                        <th> Bytes </th>\n",
       "                        <td> 22.63 GiB </td>\n",
       "                        <td> 1.00 MiB </td>\n",
       "                    </tr>\n",
       "                    \n",
       "                    <tr>\n",
       "                        <th> Shape </th>\n",
       "                        <td> (1, 1, 1966, 3703, 3337) </td>\n",
       "                        <td> (1, 1, 1, 1024, 1024) </td>\n",
       "                    </tr>\n",
       "                    <tr>\n",
       "                        <th> Dask graph </th>\n",
       "                        <td colspan=\"2\"> 31456 chunks in 2 graph layers </td>\n",
       "                    </tr>\n",
       "                    <tr>\n",
       "                        <th> Data type </th>\n",
       "                        <td colspan=\"2\"> uint8 numpy.ndarray </td>\n",
       "                    </tr>\n",
       "                </tbody>\n",
       "            </table>\n",
       "        </td>\n",
       "        <td>\n",
       "        <svg width=\"385\" height=\"207\" style=\"stroke:rgb(0,0,0);stroke-width:1\" >\n",
       "\n",
       "  <!-- Horizontal lines -->\n",
       "  <line x1=\"0\" y1=\"0\" x2=\"25\" y2=\"0\" style=\"stroke-width:2\" />\n",
       "  <line x1=\"0\" y1=\"25\" x2=\"25\" y2=\"25\" style=\"stroke-width:2\" />\n",
       "\n",
       "  <!-- Vertical lines -->\n",
       "  <line x1=\"0\" y1=\"0\" x2=\"0\" y2=\"25\" style=\"stroke-width:2\" />\n",
       "  <line x1=\"25\" y1=\"0\" x2=\"25\" y2=\"25\" style=\"stroke-width:2\" />\n",
       "\n",
       "  <!-- Colored Rectangle -->\n",
       "  <polygon points=\"0.0,0.0 25.412616514582485,0.0 25.412616514582485,25.412616514582485 0.0,25.412616514582485\" style=\"fill:#ECB172A0;stroke-width:0\"/>\n",
       "\n",
       "  <!-- Text -->\n",
       "  <text x=\"12.706308\" y=\"45.412617\" font-size=\"1.0rem\" font-weight=\"100\" text-anchor=\"middle\" >1</text>\n",
       "  <text x=\"45.412617\" y=\"12.706308\" font-size=\"1.0rem\" font-weight=\"100\" text-anchor=\"middle\" transform=\"rotate(0,45.412617,12.706308)\">1</text>\n",
       "\n",
       "\n",
       "  <!-- Horizontal lines -->\n",
       "  <line x1=\"95\" y1=\"0\" x2=\"132\" y2=\"37\" style=\"stroke-width:2\" />\n",
       "  <line x1=\"95\" y1=\"33\" x2=\"132\" y2=\"70\" />\n",
       "  <line x1=\"95\" y1=\"66\" x2=\"132\" y2=\"103\" />\n",
       "  <line x1=\"95\" y1=\"99\" x2=\"132\" y2=\"137\" />\n",
       "  <line x1=\"95\" y1=\"120\" x2=\"132\" y2=\"157\" style=\"stroke-width:2\" />\n",
       "\n",
       "  <!-- Vertical lines -->\n",
       "  <line x1=\"95\" y1=\"0\" x2=\"95\" y2=\"120\" style=\"stroke-width:2\" />\n",
       "  <line x1=\"96\" y1=\"1\" x2=\"96\" y2=\"121\" />\n",
       "  <line x1=\"97\" y1=\"2\" x2=\"97\" y2=\"122\" />\n",
       "  <line x1=\"98\" y1=\"3\" x2=\"98\" y2=\"123\" />\n",
       "  <line x1=\"99\" y1=\"4\" x2=\"99\" y2=\"124\" />\n",
       "  <line x1=\"100\" y1=\"5\" x2=\"100\" y2=\"125\" />\n",
       "  <line x1=\"102\" y1=\"7\" x2=\"102\" y2=\"127\" />\n",
       "  <line x1=\"103\" y1=\"8\" x2=\"103\" y2=\"128\" />\n",
       "  <line x1=\"104\" y1=\"9\" x2=\"104\" y2=\"129\" />\n",
       "  <line x1=\"105\" y1=\"10\" x2=\"105\" y2=\"130\" />\n",
       "  <line x1=\"106\" y1=\"11\" x2=\"106\" y2=\"131\" />\n",
       "  <line x1=\"107\" y1=\"12\" x2=\"107\" y2=\"132\" />\n",
       "  <line x1=\"109\" y1=\"14\" x2=\"109\" y2=\"134\" />\n",
       "  <line x1=\"110\" y1=\"15\" x2=\"110\" y2=\"135\" />\n",
       "  <line x1=\"111\" y1=\"16\" x2=\"111\" y2=\"136\" />\n",
       "  <line x1=\"112\" y1=\"17\" x2=\"112\" y2=\"137\" />\n",
       "  <line x1=\"113\" y1=\"18\" x2=\"113\" y2=\"138\" />\n",
       "  <line x1=\"114\" y1=\"19\" x2=\"114\" y2=\"139\" />\n",
       "  <line x1=\"116\" y1=\"21\" x2=\"116\" y2=\"141\" />\n",
       "  <line x1=\"117\" y1=\"22\" x2=\"117\" y2=\"142\" />\n",
       "  <line x1=\"118\" y1=\"23\" x2=\"118\" y2=\"143\" />\n",
       "  <line x1=\"119\" y1=\"24\" x2=\"119\" y2=\"144\" />\n",
       "  <line x1=\"120\" y1=\"25\" x2=\"120\" y2=\"145\" />\n",
       "  <line x1=\"121\" y1=\"26\" x2=\"121\" y2=\"146\" />\n",
       "  <line x1=\"123\" y1=\"28\" x2=\"123\" y2=\"148\" />\n",
       "  <line x1=\"124\" y1=\"29\" x2=\"124\" y2=\"149\" />\n",
       "  <line x1=\"125\" y1=\"30\" x2=\"125\" y2=\"150\" />\n",
       "  <line x1=\"126\" y1=\"31\" x2=\"126\" y2=\"151\" />\n",
       "  <line x1=\"127\" y1=\"32\" x2=\"127\" y2=\"152\" />\n",
       "  <line x1=\"128\" y1=\"33\" x2=\"128\" y2=\"153\" />\n",
       "  <line x1=\"130\" y1=\"35\" x2=\"130\" y2=\"155\" />\n",
       "  <line x1=\"131\" y1=\"36\" x2=\"131\" y2=\"156\" />\n",
       "  <line x1=\"132\" y1=\"37\" x2=\"132\" y2=\"157\" style=\"stroke-width:2\" />\n",
       "\n",
       "  <!-- Colored Rectangle -->\n",
       "  <polygon points=\"95.0,0.0 132.47676764467602,37.476767644676016 132.47676764467602,157.47676764467602 95.0,120.0\" style=\"fill:#8B4903A0;stroke-width:0\"/>\n",
       "\n",
       "  <!-- Horizontal lines -->\n",
       "  <line x1=\"95\" y1=\"0\" x2=\"203\" y2=\"0\" style=\"stroke-width:2\" />\n",
       "  <line x1=\"96\" y1=\"1\" x2=\"204\" y2=\"1\" />\n",
       "  <line x1=\"97\" y1=\"2\" x2=\"205\" y2=\"2\" />\n",
       "  <line x1=\"98\" y1=\"3\" x2=\"206\" y2=\"3\" />\n",
       "  <line x1=\"99\" y1=\"4\" x2=\"207\" y2=\"4\" />\n",
       "  <line x1=\"100\" y1=\"5\" x2=\"208\" y2=\"5\" />\n",
       "  <line x1=\"102\" y1=\"7\" x2=\"210\" y2=\"7\" />\n",
       "  <line x1=\"103\" y1=\"8\" x2=\"211\" y2=\"8\" />\n",
       "  <line x1=\"104\" y1=\"9\" x2=\"212\" y2=\"9\" />\n",
       "  <line x1=\"105\" y1=\"10\" x2=\"213\" y2=\"10\" />\n",
       "  <line x1=\"106\" y1=\"11\" x2=\"214\" y2=\"11\" />\n",
       "  <line x1=\"107\" y1=\"12\" x2=\"216\" y2=\"12\" />\n",
       "  <line x1=\"109\" y1=\"14\" x2=\"217\" y2=\"14\" />\n",
       "  <line x1=\"110\" y1=\"15\" x2=\"218\" y2=\"15\" />\n",
       "  <line x1=\"111\" y1=\"16\" x2=\"219\" y2=\"16\" />\n",
       "  <line x1=\"112\" y1=\"17\" x2=\"220\" y2=\"17\" />\n",
       "  <line x1=\"113\" y1=\"18\" x2=\"221\" y2=\"18\" />\n",
       "  <line x1=\"114\" y1=\"19\" x2=\"223\" y2=\"19\" />\n",
       "  <line x1=\"116\" y1=\"21\" x2=\"224\" y2=\"21\" />\n",
       "  <line x1=\"117\" y1=\"22\" x2=\"225\" y2=\"22\" />\n",
       "  <line x1=\"118\" y1=\"23\" x2=\"226\" y2=\"23\" />\n",
       "  <line x1=\"119\" y1=\"24\" x2=\"227\" y2=\"24\" />\n",
       "  <line x1=\"120\" y1=\"25\" x2=\"228\" y2=\"25\" />\n",
       "  <line x1=\"121\" y1=\"26\" x2=\"230\" y2=\"26\" />\n",
       "  <line x1=\"123\" y1=\"28\" x2=\"231\" y2=\"28\" />\n",
       "  <line x1=\"124\" y1=\"29\" x2=\"232\" y2=\"29\" />\n",
       "  <line x1=\"125\" y1=\"30\" x2=\"233\" y2=\"30\" />\n",
       "  <line x1=\"126\" y1=\"31\" x2=\"234\" y2=\"31\" />\n",
       "  <line x1=\"127\" y1=\"32\" x2=\"235\" y2=\"32\" />\n",
       "  <line x1=\"128\" y1=\"33\" x2=\"237\" y2=\"33\" />\n",
       "  <line x1=\"130\" y1=\"35\" x2=\"238\" y2=\"35\" />\n",
       "  <line x1=\"131\" y1=\"36\" x2=\"239\" y2=\"36\" />\n",
       "  <line x1=\"132\" y1=\"37\" x2=\"240\" y2=\"37\" style=\"stroke-width:2\" />\n",
       "\n",
       "  <!-- Vertical lines -->\n",
       "  <line x1=\"95\" y1=\"0\" x2=\"132\" y2=\"37\" style=\"stroke-width:2\" />\n",
       "  <line x1=\"128\" y1=\"0\" x2=\"165\" y2=\"37\" />\n",
       "  <line x1=\"161\" y1=\"0\" x2=\"198\" y2=\"37\" />\n",
       "  <line x1=\"194\" y1=\"0\" x2=\"232\" y2=\"37\" />\n",
       "  <line x1=\"203\" y1=\"0\" x2=\"240\" y2=\"37\" style=\"stroke-width:2\" />\n",
       "\n",
       "  <!-- Colored Rectangle -->\n",
       "  <polygon points=\"95.0,0.0 203.1393464758304,0.0 240.6161141205064,37.476767644676016 132.47676764467602,37.476767644676016\" style=\"fill:#8B4903A0;stroke-width:0\"/>\n",
       "\n",
       "  <!-- Horizontal lines -->\n",
       "  <line x1=\"132\" y1=\"37\" x2=\"240\" y2=\"37\" style=\"stroke-width:2\" />\n",
       "  <line x1=\"132\" y1=\"70\" x2=\"240\" y2=\"70\" />\n",
       "  <line x1=\"132\" y1=\"103\" x2=\"240\" y2=\"103\" />\n",
       "  <line x1=\"132\" y1=\"137\" x2=\"240\" y2=\"137\" />\n",
       "  <line x1=\"132\" y1=\"157\" x2=\"240\" y2=\"157\" style=\"stroke-width:2\" />\n",
       "\n",
       "  <!-- Vertical lines -->\n",
       "  <line x1=\"132\" y1=\"37\" x2=\"132\" y2=\"157\" style=\"stroke-width:2\" />\n",
       "  <line x1=\"165\" y1=\"37\" x2=\"165\" y2=\"157\" />\n",
       "  <line x1=\"198\" y1=\"37\" x2=\"198\" y2=\"157\" />\n",
       "  <line x1=\"232\" y1=\"37\" x2=\"232\" y2=\"157\" />\n",
       "  <line x1=\"240\" y1=\"37\" x2=\"240\" y2=\"157\" style=\"stroke-width:2\" />\n",
       "\n",
       "  <!-- Colored Rectangle -->\n",
       "  <polygon points=\"132.47676764467602,37.476767644676016 240.6161141205064,37.476767644676016 240.6161141205064,157.47676764467602 132.47676764467602,157.47676764467602\" style=\"fill:#ECB172A0;stroke-width:0\"/>\n",
       "\n",
       "  <!-- Text -->\n",
       "  <text x=\"186.546441\" y=\"177.476768\" font-size=\"1.0rem\" font-weight=\"100\" text-anchor=\"middle\" >3337</text>\n",
       "  <text x=\"260.616114\" y=\"97.476768\" font-size=\"1.0rem\" font-weight=\"100\" text-anchor=\"middle\" transform=\"rotate(-90,260.616114,97.476768)\">3703</text>\n",
       "  <text x=\"103.738384\" y=\"158.738384\" font-size=\"1.0rem\" font-weight=\"100\" text-anchor=\"middle\" transform=\"rotate(45,103.738384,158.738384)\">1966</text>\n",
       "</svg>\n",
       "        </td>\n",
       "    </tr>\n",
       "</table>"
      ],
      "text/plain": [
       "dask.array<from-zarr, shape=(1, 1, 1966, 3703, 3337), dtype=uint8, chunksize=(1, 1, 1, 1024, 1024), chunktype=numpy.ndarray>"
      ]
     },
     "execution_count": 72,
     "metadata": {},
     "output_type": "execute_result"
    }
   ],
   "source": [
    "image_node.data[0]"
   ]
  },
  {
   "cell_type": "code",
   "execution_count": 73,
   "metadata": {},
   "outputs": [],
   "source": [
    "ta = dask_data[0][0,0,-1, :1024, :1024].compute()"
   ]
  },
  {
   "cell_type": "code",
   "execution_count": null,
   "metadata": {},
   "outputs": [],
   "source": [
    "# TODO map_chunks with all operations\n",
    "# TODO iter vs getitem\n",
    "\n",
    "# simultaneous .compute"
   ]
  },
  {
   "cell_type": "code",
   "execution_count": 80,
   "metadata": {},
   "outputs": [],
   "source": [
    "pa = dask_data[0][0,0,-1, :1024, :1024].compute()"
   ]
  },
  {
   "cell_type": "code",
   "execution_count": 87,
   "metadata": {},
   "outputs": [],
   "source": [
    "ta2 = dask_data[0][0,0,-2, :1024, :1024].compute()"
   ]
  },
  {
   "cell_type": "code",
   "execution_count": 74,
   "metadata": {},
   "outputs": [],
   "source": [
    "import psutil"
   ]
  },
  {
   "cell_type": "code",
   "execution_count": 75,
   "metadata": {},
   "outputs": [
    {
     "name": "stdout",
     "output_type": "stream",
     "text": [
      "pmem(rss=913690624, vms=5963218944, shared=169201664, text=2490368, lib=0, data=1875046400, dirty=0)\n"
     ]
    }
   ],
   "source": [
    "pr = psutil.Process()\n",
    "\n",
    "print(pr.memory_info())"
   ]
  },
  {
   "cell_type": "code",
   "execution_count": 88,
   "metadata": {},
   "outputs": [
    {
     "data": {
      "text/plain": [
       "pmem(rss=925437952, vms=5975945216, shared=169201664, text=2490368, lib=0, data=1887793152, dirty=0)"
      ]
     },
     "execution_count": 88,
     "metadata": {},
     "output_type": "execute_result"
    }
   ],
   "source": [
    "pr.memory_info()"
   ]
  },
  {
   "cell_type": "code",
   "execution_count": 5,
   "metadata": {},
   "outputs": [],
   "source": [
    "from careamics.dataset.patching.validate_patch_dimension import validate_patch_dimensions\n"
   ]
  },
  {
   "cell_type": "code",
   "execution_count": 6,
   "metadata": {},
   "outputs": [],
   "source": [
    "from careamics.config import DataConfig\n",
    "from careamics.config.transformations import NormalizeModel\n",
    "from careamics.transforms import Compose\n",
    "from careamics.dataset.patching.patching import Stats"
   ]
  },
  {
   "cell_type": "code",
   "execution_count": 10,
   "metadata": {},
   "outputs": [],
   "source": [
    "def read_ome_zarr(path: str) -> list:\n",
    "    \"\"\"_summary_.\n",
    "\n",
    "    _extended_summary_\n",
    "\n",
    "    Parameters\n",
    "    ----------\n",
    "    path : str\n",
    "        local path or url\n",
    "    \"\"\"\n",
    "    zarr_loc = parse_url(path)\n",
    "    assert zarr_loc.exists()\n",
    "\n",
    "    reader = Reader(test_zarr_loc)\n",
    "\n",
    "    nodes = list(reader())\n",
    "    return nodes\n"
   ]
  },
  {
   "cell_type": "code",
   "execution_count": 7,
   "metadata": {},
   "outputs": [],
   "source": [
    "from careamics.dataset.patching.sequential_patching import _compute_number_of_patches, _compute_overlap, _compute_patch_steps\n",
    "from skimage.util import view_as_windows"
   ]
  },
  {
   "cell_type": "code",
   "execution_count": 40,
   "metadata": {},
   "outputs": [],
   "source": [
    "arr = np.random.rand(2, 1024, 1024)\n",
    "patch_size = (64, 64)"
   ]
  },
  {
   "cell_type": "code",
   "execution_count": 42,
   "metadata": {},
   "outputs": [],
   "source": [
    "overlaps = _compute_overlap(arr_shape=arr.shape, patch_sizes=(1, *patch_size))\n",
    "\n",
    "    # Create view window and overlaps\n",
    "window_steps = _compute_patch_steps(patch_sizes=(1, *patch_size), overlaps=overlaps)"
   ]
  },
  {
   "cell_type": "code",
   "execution_count": null,
   "metadata": {},
   "outputs": [],
   "source": [
    "?view_as_windows"
   ]
  },
  {
   "cell_type": "code",
   "execution_count": 44,
   "metadata": {},
   "outputs": [],
   "source": [
    "patches = view_as_windows(arr, window_shape=(1, *patch_size), step=window_steps)"
   ]
  },
  {
   "cell_type": "code",
   "execution_count": 45,
   "metadata": {},
   "outputs": [
    {
     "data": {
      "text/plain": [
       "(2, 16, 16, 1, 64, 64)"
      ]
     },
     "execution_count": 45,
     "metadata": {},
     "output_type": "execute_result"
    }
   ],
   "source": [
    "patches.shape"
   ]
  },
  {
   "cell_type": "code",
   "execution_count": 48,
   "metadata": {},
   "outputs": [],
   "source": [
    "grid_shape = patches.shape[:-len((1, *patch_size))]"
   ]
  },
  {
   "cell_type": "code",
   "execution_count": 49,
   "metadata": {},
   "outputs": [
    {
     "data": {
      "text/plain": [
       "(2, 16, 16)"
      ]
     },
     "execution_count": 49,
     "metadata": {},
     "output_type": "execute_result"
    }
   ],
   "source": [
    "grid_shape"
   ]
  },
  {
   "cell_type": "code",
   "execution_count": 50,
   "metadata": {},
   "outputs": [],
   "source": [
    "mg = np.meshgrid(*[range(i) for i in grid_shape], sparse=True)"
   ]
  },
  {
   "cell_type": "code",
   "execution_count": 51,
   "metadata": {},
   "outputs": [
    {
     "data": {
      "text/plain": [
       "3"
      ]
     },
     "execution_count": 51,
     "metadata": {},
     "output_type": "execute_result"
    }
   ],
   "source": [
    "len(mg)"
   ]
  },
  {
   "cell_type": "code",
   "execution_count": 57,
   "metadata": {},
   "outputs": [
    {
     "data": {
      "text/plain": [
       "[array([[[0],\n",
       "         [1]]]),\n",
       " array([[[ 0]],\n",
       " \n",
       "        [[ 1]],\n",
       " \n",
       "        [[ 2]],\n",
       " \n",
       "        [[ 3]],\n",
       " \n",
       "        [[ 4]],\n",
       " \n",
       "        [[ 5]],\n",
       " \n",
       "        [[ 6]],\n",
       " \n",
       "        [[ 7]],\n",
       " \n",
       "        [[ 8]],\n",
       " \n",
       "        [[ 9]],\n",
       " \n",
       "        [[10]],\n",
       " \n",
       "        [[11]],\n",
       " \n",
       "        [[12]],\n",
       " \n",
       "        [[13]],\n",
       " \n",
       "        [[14]],\n",
       " \n",
       "        [[15]]]),\n",
       " array([[[ 0,  1,  2,  3,  4,  5,  6,  7,  8,  9, 10, 11, 12, 13, 14, 15]]])]"
      ]
     },
     "execution_count": 57,
     "metadata": {},
     "output_type": "execute_result"
    }
   ],
   "source": [
    "mg"
   ]
  },
  {
   "cell_type": "code",
   "execution_count": 52,
   "metadata": {},
   "outputs": [
    {
     "name": "stdout",
     "output_type": "stream",
     "text": [
      "(1, 2, 1)\n",
      "(16, 1, 1)\n",
      "(1, 1, 16)\n"
     ]
    }
   ],
   "source": [
    "for d in mg:\n",
    "    print(d.shape)\n",
    "\n"
   ]
  },
  {
   "cell_type": "code",
   "execution_count": 53,
   "metadata": {},
   "outputs": [
    {
     "data": {
      "text/plain": [
       "512"
      ]
     },
     "execution_count": 53,
     "metadata": {},
     "output_type": "execute_result"
    }
   ],
   "source": [
    "np.prod(grid_shape)"
   ]
  },
  {
   "cell_type": "code",
   "execution_count": 55,
   "metadata": {},
   "outputs": [
    {
     "name": "stdout",
     "output_type": "stream",
     "text": [
      "[0 1]\n",
      "[  0  64 128 192 256 320 384 448 512 576 640 704 768 832 896 960]\n",
      "[  0  64 128 192 256 320 384 448 512 576 640 704 768 832 896 960]\n"
     ]
    }
   ],
   "source": [
    "for d in range(len(arr.shape)):\n",
    "    print(np.arange(0, arr.shape[d])[slice(0, arr.shape[d], (1, *patch_size)[d])])"
   ]
  },
  {
   "cell_type": "code",
   "execution_count": 84,
   "metadata": {},
   "outputs": [
    {
     "data": {
      "text/plain": [
       "4349"
      ]
     },
     "execution_count": 84,
     "metadata": {},
     "output_type": "execute_result"
    }
   ],
   "source": [
    "len(np.array_split(np.arange(31456*512), 3703)[-1])"
   ]
  },
  {
   "cell_type": "code",
   "execution_count": 56,
   "metadata": {},
   "outputs": [
    {
     "data": {
      "text/plain": [
       "93"
      ]
     },
     "execution_count": 56,
     "metadata": {},
     "output_type": "execute_result"
    }
   ],
   "source": [
    "shape = (1, 1, 1966, 3703, 3337)\n",
    "n_p = 31456 * 512\n",
    "\n",
    "cd = {}\n",
    "for i in range(n_p):\n",
    "    cd[i] = "
   ]
  },
  {
   "cell_type": "code",
   "execution_count": 4,
   "metadata": {},
   "outputs": [],
   "source": [
    "class TestZarrDataset(Dataset):\n",
    "    def __init__(\n",
    "        self,\n",
    "        zarr_array,\n",
    "        patch_size=(1, 1, 1, 32, 32)\n",
    "    ) -> None:\n",
    "        self.data = zarr_array\n",
    "\n",
    "        self.chunk_size = np.array(zarr_array.chunksize)\n",
    "        self.data_shape = np.array(zarr_array.shape)\n",
    "\n",
    "        # patch_size adjusted to the number of dimensions\n",
    "        self.patch_size = patch_size\n",
    "        assert len(self.patch_size) == len(self.data_shape)\n",
    "        self.patches_per_dimension = np.ceil(\n",
    "            self.data_shape / self.patch_size\n",
    "        ).astype(np.uint32)\n",
    "\n",
    "        self.patches_per_chunk = (self.chunk_size // patch_size).clip(1)\n",
    "        if any(self.patch_size > self.chunk_size):\n",
    "            print(\"Larger patch than chunk size\")\n",
    "\n",
    "        self.len = np.prod(self.patches_per_dimension)\n",
    "        self.indices = np.arange(self.len)\n",
    "        self.indices_map = self.indices.reshape(self.patches_per_dimension)\n",
    "\n",
    "    def __len__(self):\n",
    "        return self.len\n",
    "\n",
    "    def __getitem__(self, index):\n",
    "        data_index = self.indices[index]\n",
    "        index_location = np.argwhere(data_index == self.indices_map)\n",
    "\n",
    "        patch_start = index_location * self.patch_size\n",
    "        patch_end = ((index_location + 1) * self.patch_size)\n",
    "\n",
    "        if (patch_end > self.data_shape).any():\n",
    "            patch_end = np.where(patch_end > self.data_shape, self.data_shape, patch_end)\n",
    "            patch_start = patch_end - self.patch_size\n",
    "\n",
    "        patches = np.dstack((patch_start, patch_end)).squeeze()\n",
    "        slices = [slice(s, e) for s, e in patches]\n",
    "        chunk = self.data[tuple(slices)].compute()\n",
    "        chunk = chunk.astype(np.float32)\n",
    "        chunk = torch.tensor(chunk, dtype=torch.float32)\n",
    "        return chunk\n"
   ]
  },
  {
   "cell_type": "code",
   "execution_count": 5,
   "metadata": {},
   "outputs": [],
   "source": [
    "test_arr = test_nodes[0].data[0]"
   ]
  },
  {
   "cell_type": "code",
   "execution_count": 6,
   "metadata": {},
   "outputs": [
    {
     "data": {
      "text/html": [
       "<table>\n",
       "    <tr>\n",
       "        <td>\n",
       "            <table style=\"border-collapse: collapse;\">\n",
       "                <thead>\n",
       "                    <tr>\n",
       "                        <td> </td>\n",
       "                        <th> Array </th>\n",
       "                        <th> Chunk </th>\n",
       "                    </tr>\n",
       "                </thead>\n",
       "                <tbody>\n",
       "                    \n",
       "                    <tr>\n",
       "                        <th> Bytes </th>\n",
       "                        <td> 4.58 MiB </td>\n",
       "                        <td> 16.00 kiB </td>\n",
       "                    </tr>\n",
       "                    \n",
       "                    <tr>\n",
       "                        <th> Shape </th>\n",
       "                        <td> (23, 457, 457) </td>\n",
       "                        <td> (1, 128, 128) </td>\n",
       "                    </tr>\n",
       "                    <tr>\n",
       "                        <th> Dask graph </th>\n",
       "                        <td colspan=\"2\"> 368 chunks in 2 graph layers </td>\n",
       "                    </tr>\n",
       "                    <tr>\n",
       "                        <th> Data type </th>\n",
       "                        <td colspan=\"2\"> uint8 numpy.ndarray </td>\n",
       "                    </tr>\n",
       "                </tbody>\n",
       "            </table>\n",
       "        </td>\n",
       "        <td>\n",
       "        <svg width=\"200\" height=\"190\" style=\"stroke:rgb(0,0,0);stroke-width:1\" >\n",
       "\n",
       "  <!-- Horizontal lines -->\n",
       "  <line x1=\"10\" y1=\"0\" x2=\"30\" y2=\"20\" style=\"stroke-width:2\" />\n",
       "  <line x1=\"10\" y1=\"33\" x2=\"30\" y2=\"53\" />\n",
       "  <line x1=\"10\" y1=\"67\" x2=\"30\" y2=\"87\" />\n",
       "  <line x1=\"10\" y1=\"100\" x2=\"30\" y2=\"121\" />\n",
       "  <line x1=\"10\" y1=\"120\" x2=\"30\" y2=\"140\" style=\"stroke-width:2\" />\n",
       "\n",
       "  <!-- Vertical lines -->\n",
       "  <line x1=\"10\" y1=\"0\" x2=\"10\" y2=\"120\" style=\"stroke-width:2\" />\n",
       "  <line x1=\"10\" y1=\"0\" x2=\"10\" y2=\"120\" />\n",
       "  <line x1=\"11\" y1=\"1\" x2=\"11\" y2=\"121\" />\n",
       "  <line x1=\"12\" y1=\"2\" x2=\"12\" y2=\"122\" />\n",
       "  <line x1=\"13\" y1=\"3\" x2=\"13\" y2=\"123\" />\n",
       "  <line x1=\"15\" y1=\"5\" x2=\"15\" y2=\"125\" />\n",
       "  <line x1=\"16\" y1=\"6\" x2=\"16\" y2=\"126\" />\n",
       "  <line x1=\"17\" y1=\"7\" x2=\"17\" y2=\"127\" />\n",
       "  <line x1=\"17\" y1=\"7\" x2=\"17\" y2=\"127\" />\n",
       "  <line x1=\"18\" y1=\"8\" x2=\"18\" y2=\"128\" />\n",
       "  <line x1=\"20\" y1=\"10\" x2=\"20\" y2=\"130\" />\n",
       "  <line x1=\"21\" y1=\"11\" x2=\"21\" y2=\"131\" />\n",
       "  <line x1=\"22\" y1=\"12\" x2=\"22\" y2=\"132\" />\n",
       "  <line x1=\"23\" y1=\"13\" x2=\"23\" y2=\"133\" />\n",
       "  <line x1=\"24\" y1=\"14\" x2=\"24\" y2=\"134\" />\n",
       "  <line x1=\"25\" y1=\"15\" x2=\"25\" y2=\"135\" />\n",
       "  <line x1=\"26\" y1=\"16\" x2=\"26\" y2=\"136\" />\n",
       "  <line x1=\"27\" y1=\"17\" x2=\"27\" y2=\"137\" />\n",
       "  <line x1=\"28\" y1=\"18\" x2=\"28\" y2=\"138\" />\n",
       "  <line x1=\"30\" y1=\"20\" x2=\"30\" y2=\"140\" style=\"stroke-width:2\" />\n",
       "\n",
       "  <!-- Colored Rectangle -->\n",
       "  <polygon points=\"10.0,0.0 30.318280081719518,20.318280081719518 30.318280081719518,140.3182800817195 10.0,120.0\" style=\"fill:#8B4903A0;stroke-width:0\"/>\n",
       "\n",
       "  <!-- Horizontal lines -->\n",
       "  <line x1=\"10\" y1=\"0\" x2=\"130\" y2=\"0\" style=\"stroke-width:2\" />\n",
       "  <line x1=\"10\" y1=\"0\" x2=\"130\" y2=\"0\" />\n",
       "  <line x1=\"11\" y1=\"1\" x2=\"131\" y2=\"1\" />\n",
       "  <line x1=\"12\" y1=\"2\" x2=\"132\" y2=\"2\" />\n",
       "  <line x1=\"13\" y1=\"3\" x2=\"133\" y2=\"3\" />\n",
       "  <line x1=\"15\" y1=\"5\" x2=\"135\" y2=\"5\" />\n",
       "  <line x1=\"16\" y1=\"6\" x2=\"136\" y2=\"6\" />\n",
       "  <line x1=\"17\" y1=\"7\" x2=\"137\" y2=\"7\" />\n",
       "  <line x1=\"17\" y1=\"7\" x2=\"137\" y2=\"7\" />\n",
       "  <line x1=\"18\" y1=\"8\" x2=\"138\" y2=\"8\" />\n",
       "  <line x1=\"20\" y1=\"10\" x2=\"140\" y2=\"10\" />\n",
       "  <line x1=\"21\" y1=\"11\" x2=\"141\" y2=\"11\" />\n",
       "  <line x1=\"22\" y1=\"12\" x2=\"142\" y2=\"12\" />\n",
       "  <line x1=\"23\" y1=\"13\" x2=\"143\" y2=\"13\" />\n",
       "  <line x1=\"24\" y1=\"14\" x2=\"144\" y2=\"14\" />\n",
       "  <line x1=\"25\" y1=\"15\" x2=\"145\" y2=\"15\" />\n",
       "  <line x1=\"26\" y1=\"16\" x2=\"146\" y2=\"16\" />\n",
       "  <line x1=\"27\" y1=\"17\" x2=\"147\" y2=\"17\" />\n",
       "  <line x1=\"28\" y1=\"18\" x2=\"148\" y2=\"18\" />\n",
       "  <line x1=\"30\" y1=\"20\" x2=\"150\" y2=\"20\" style=\"stroke-width:2\" />\n",
       "\n",
       "  <!-- Vertical lines -->\n",
       "  <line x1=\"10\" y1=\"0\" x2=\"30\" y2=\"20\" style=\"stroke-width:2\" />\n",
       "  <line x1=\"43\" y1=\"0\" x2=\"63\" y2=\"20\" />\n",
       "  <line x1=\"77\" y1=\"0\" x2=\"97\" y2=\"20\" />\n",
       "  <line x1=\"110\" y1=\"0\" x2=\"131\" y2=\"20\" />\n",
       "  <line x1=\"130\" y1=\"0\" x2=\"150\" y2=\"20\" style=\"stroke-width:2\" />\n",
       "\n",
       "  <!-- Colored Rectangle -->\n",
       "  <polygon points=\"10.0,0.0 130.0,0.0 150.3182800817195,20.318280081719518 30.318280081719518,20.318280081719518\" style=\"fill:#8B4903A0;stroke-width:0\"/>\n",
       "\n",
       "  <!-- Horizontal lines -->\n",
       "  <line x1=\"30\" y1=\"20\" x2=\"150\" y2=\"20\" style=\"stroke-width:2\" />\n",
       "  <line x1=\"30\" y1=\"53\" x2=\"150\" y2=\"53\" />\n",
       "  <line x1=\"30\" y1=\"87\" x2=\"150\" y2=\"87\" />\n",
       "  <line x1=\"30\" y1=\"121\" x2=\"150\" y2=\"121\" />\n",
       "  <line x1=\"30\" y1=\"140\" x2=\"150\" y2=\"140\" style=\"stroke-width:2\" />\n",
       "\n",
       "  <!-- Vertical lines -->\n",
       "  <line x1=\"30\" y1=\"20\" x2=\"30\" y2=\"140\" style=\"stroke-width:2\" />\n",
       "  <line x1=\"63\" y1=\"20\" x2=\"63\" y2=\"140\" />\n",
       "  <line x1=\"97\" y1=\"20\" x2=\"97\" y2=\"140\" />\n",
       "  <line x1=\"131\" y1=\"20\" x2=\"131\" y2=\"140\" />\n",
       "  <line x1=\"150\" y1=\"20\" x2=\"150\" y2=\"140\" style=\"stroke-width:2\" />\n",
       "\n",
       "  <!-- Colored Rectangle -->\n",
       "  <polygon points=\"30.318280081719518,20.318280081719518 150.3182800817195,20.318280081719518 150.3182800817195,140.3182800817195 30.318280081719518,140.3182800817195\" style=\"fill:#ECB172A0;stroke-width:0\"/>\n",
       "\n",
       "  <!-- Text -->\n",
       "  <text x=\"90.318280\" y=\"160.318280\" font-size=\"1.0rem\" font-weight=\"100\" text-anchor=\"middle\" >457</text>\n",
       "  <text x=\"170.318280\" y=\"80.318280\" font-size=\"1.0rem\" font-weight=\"100\" text-anchor=\"middle\" transform=\"rotate(-90,170.318280,80.318280)\">457</text>\n",
       "  <text x=\"10.159140\" y=\"150.159140\" font-size=\"1.0rem\" font-weight=\"100\" text-anchor=\"middle\" transform=\"rotate(45,10.159140,150.159140)\">23</text>\n",
       "</svg>\n",
       "        </td>\n",
       "    </tr>\n",
       "</table>"
      ],
      "text/plain": [
       "dask.array<from-zarr, shape=(23, 457, 457), dtype=uint8, chunksize=(1, 128, 128), chunktype=numpy.ndarray>"
      ]
     },
     "execution_count": 6,
     "metadata": {},
     "output_type": "execute_result"
    }
   ],
   "source": [
    "test_arr"
   ]
  },
  {
   "cell_type": "code",
   "execution_count": 7,
   "metadata": {},
   "outputs": [],
   "source": [
    "ds = TestZarrDataset(test_arr, patch_size=(1, 64, 64))"
   ]
  },
  {
   "cell_type": "code",
   "execution_count": 15,
   "metadata": {},
   "outputs": [],
   "source": [
    "for s in ds:\n",
    "    print(s.shape)"
   ]
  },
  {
   "cell_type": "code",
   "execution_count": 23,
   "metadata": {},
   "outputs": [],
   "source": [
    "class SingleZarrDataset(Dataset):\n",
    "    \"\"\"Dataset to extract patches from a zarr storage.\"\"\"\n",
    "\n",
    "    def __init__(\n",
    "        self,\n",
    "        data_config: DataConfig,\n",
    "        src_files: list[Path],\n",
    "        target_files: Optional[list[Path]] = None,\n",
    "    ) -> None:\n",
    "        self.data_config = data_config\n",
    "        self.data_files = src_files\n",
    "        self.target_files = target_files\n",
    "\n",
    "        if not self.data_config.image_means:\n",
    "            self.image_stats, self.target_stats = self._calculate_mean_and_std()\n",
    "            # logger.info(\n",
    "            #     f\"Computed dataset mean: {self.image_stats.means},\"\n",
    "            #     f\"std: {self.image_stats.stds}\"\n",
    "            # )\n",
    "\n",
    "            # update the mean in the config\n",
    "            self.data_config.set_means_and_stds(\n",
    "                image_means=self.image_stats.means,\n",
    "                image_stds=self.image_stats.stds,\n",
    "                target_means=(\n",
    "                    list(self.target_stats.means)\n",
    "                    if self.target_stats.means is not None\n",
    "                    else None\n",
    "                ),\n",
    "                target_stds=(\n",
    "                    list(self.target_stats.stds)\n",
    "                    if self.target_stats.stds is not None\n",
    "                    else None\n",
    "                ),\n",
    "            )\n",
    "\n",
    "        else:\n",
    "            # if mean and std are provided in the config, use them\n",
    "            self.image_stats, self.target_stats = (\n",
    "                Stats(self.data_config.image_means, self.data_config.image_stds),\n",
    "                Stats(self.data_config.target_means, self.data_config.target_stds),\n",
    "            )\n",
    "\n",
    "        self.nodes = read_ome_zarr(self.data_path)\n",
    "        # 0 is the index of the image node\n",
    "        self.data = self.nodes[0]\n",
    "        # TODO assert target files and nodes[1] are mutually exclusive\n",
    "        if self.nodes[1].visible:\n",
    "            self.targets = self.nodes[1]\n",
    "        elif self.target_files:\n",
    "            self.targets = read_ome_zarr(self.target_path)[0]\n",
    "        else:\n",
    "            self.targets = None\n",
    "        # TODO assert targets and data have the same shape\n",
    "        \n",
    "        self.num_pathes_per_chunk = self._compute_num_patches_per_chunk()\n",
    "\n",
    "    def _compute_num_patches_per_chunk(self):\n",
    "        \"\"\"Num patches per chunk.\"\"\"\n",
    "        # TODO implement this\n",
    "        pass\n",
    "\n",
    "    def __len__(self) -> int:\n",
    "        # index 0 is the highest resolution level\n",
    "        return self.data.data[0].npartitions * self.num_pathes_per_chunk\n",
    "\n",
    "    def _patch_chunk_mapping(self):\n",
    "        \"\"\"Stores the mapping of patches to chunks.\n",
    "\n",
    "        In order not to load a chunk multiple times, we cache the mapping of patch\n",
    "        indices to a specific chunk.\n",
    "\n",
    "        Parameters\n",
    "        ----------\n",
    "        self : _type_\n",
    "            _description_\n",
    "        \"\"\"\n",
    "        # split the whole len across respective dims\n",
    "        # \n",
    "        pass\n",
    "\n",
    "    def __getitem__(self, index: int) -> np.array:\n",
    "        \"\"\"\n",
    "        Returns single patch.\n",
    "\n",
    "        Parameters\n",
    "        ----------\n",
    "        index : int\n",
    "            Index of the patch to return.\n",
    "\n",
    "        Returns\n",
    "        -------\n",
    "        np.ndarray\n",
    "        \"\"\"\n",
    "        "
   ]
  },
  {
   "cell_type": "code",
   "execution_count": 24,
   "metadata": {},
   "outputs": [],
   "source": [
    "dataset = ZarrDataset(\n",
    "                data_path=reg_path,\n",
    "                axes=axes,\n",
    "                patch_extraction_method='random',\n",
    "                patch_size=patch_size,\n",
    "            )"
   ]
  },
  {
   "cell_type": "code",
   "execution_count": 27,
   "metadata": {},
   "outputs": [],
   "source": [
    "dl = DataLoader(dataset, batch_size=32, num_workers=4,\n",
    "                # prefetch_factor=8\n",
    "                )"
   ]
  },
  {
   "cell_type": "code",
   "execution_count": 28,
   "metadata": {},
   "outputs": [
    {
     "name": "stdout",
     "output_type": "stream",
     "text": [
      "0 torch.Size([32, 64, 64])\n",
      "1 torch.Size([32, 64, 64])\n",
      "2 torch.Size([32, 64, 64])\n",
      "3 torch.Size([32, 64, 64])\n",
      "4 torch.Size([32, 64, 64])\n",
      "5 torch.Size([32, 64, 64])\n",
      "6 torch.Size([32, 64, 64])\n",
      "7 torch.Size([32, 64, 64])\n",
      "8 torch.Size([32, 64, 64])\n",
      "9 torch.Size([32, 64, 64])\n",
      "10 torch.Size([32, 64, 64])\n",
      "11 torch.Size([32, 64, 64])\n",
      "12 torch.Size([32, 64, 64])\n",
      "13 torch.Size([32, 64, 64])\n",
      "14 torch.Size([32, 64, 64])\n",
      "15 torch.Size([32, 64, 64])\n",
      "16 torch.Size([32, 64, 64])\n",
      "17 torch.Size([32, 64, 64])\n",
      "18 torch.Size([32, 64, 64])\n",
      "19 torch.Size([32, 64, 64])\n",
      "20 torch.Size([32, 64, 64])\n",
      "21 torch.Size([32, 64, 64])\n",
      "22 torch.Size([32, 64, 64])\n",
      "23 torch.Size([32, 64, 64])\n",
      "24 torch.Size([32, 64, 64])\n",
      "25 torch.Size([32, 64, 64])\n",
      "26 torch.Size([32, 64, 64])\n",
      "27 torch.Size([32, 64, 64])\n",
      "28 torch.Size([32, 64, 64])\n",
      "29 torch.Size([32, 64, 64])\n",
      "30 torch.Size([32, 64, 64])\n",
      "31 torch.Size([32, 64, 64])\n",
      "32 torch.Size([32, 64, 64])\n",
      "33 torch.Size([32, 64, 64])\n",
      "34 torch.Size([32, 64, 64])\n",
      "35 torch.Size([32, 64, 64])\n",
      "36 torch.Size([32, 64, 64])\n",
      "37 torch.Size([32, 64, 64])\n",
      "38 torch.Size([32, 64, 64])\n",
      "39 torch.Size([32, 64, 64])\n",
      "40 torch.Size([32, 64, 64])\n",
      "41 torch.Size([32, 64, 64])\n",
      "42 torch.Size([32, 64, 64])\n",
      "43 torch.Size([32, 64, 64])\n",
      "44 torch.Size([32, 64, 64])\n",
      "45 torch.Size([32, 64, 64])\n",
      "46 torch.Size([32, 64, 64])\n",
      "47 torch.Size([32, 64, 64])\n",
      "48 torch.Size([32, 64, 64])\n",
      "49 torch.Size([32, 64, 64])\n",
      "50 torch.Size([32, 64, 64])\n",
      "51 torch.Size([32, 64, 64])\n",
      "52 torch.Size([32, 64, 64])\n",
      "53 torch.Size([32, 64, 64])\n",
      "54 torch.Size([32, 64, 64])\n",
      "55 torch.Size([32, 64, 64])\n",
      "56 torch.Size([32, 64, 64])\n",
      "57 torch.Size([32, 64, 64])\n",
      "58 torch.Size([32, 64, 64])\n",
      "59 torch.Size([32, 64, 64])\n",
      "60 torch.Size([32, 64, 64])\n",
      "61 torch.Size([32, 64, 64])\n",
      "62 torch.Size([32, 64, 64])\n",
      "63 torch.Size([32, 64, 64])\n",
      "64 torch.Size([32, 64, 64])\n",
      "65 torch.Size([32, 64, 64])\n",
      "66 torch.Size([32, 64, 64])\n",
      "67 torch.Size([32, 64, 64])\n",
      "68 torch.Size([32, 64, 64])\n",
      "69 torch.Size([32, 64, 64])\n",
      "70 torch.Size([32, 64, 64])\n",
      "71 torch.Size([32, 64, 64])\n",
      "72 torch.Size([32, 64, 64])\n",
      "73 torch.Size([32, 64, 64])\n",
      "74 torch.Size([32, 64, 64])\n",
      "75 torch.Size([32, 64, 64])\n",
      "76 torch.Size([32, 64, 64])\n",
      "77 torch.Size([32, 64, 64])\n",
      "78 torch.Size([32, 64, 64])\n",
      "79 torch.Size([32, 64, 64])\n",
      "80 torch.Size([32, 64, 64])\n",
      "81 torch.Size([32, 64, 64])\n",
      "82 torch.Size([32, 64, 64])\n"
     ]
    },
    {
     "ename": "KeyboardInterrupt",
     "evalue": "",
     "output_type": "error",
     "traceback": [
      "\u001b[0;31m---------------------------------------------------------------------------\u001b[0m",
      "\u001b[0;31mKeyboardInterrupt\u001b[0m                         Traceback (most recent call last)",
      "Cell \u001b[0;32mIn[28], line 1\u001b[0m\n\u001b[0;32m----> 1\u001b[0m \u001b[39mfor\u001b[39;00m i, batch \u001b[39min\u001b[39;00m \u001b[39menumerate\u001b[39m(dl):\n\u001b[1;32m      2\u001b[0m     \u001b[39mprint\u001b[39m(i, batch\u001b[39m.\u001b[39mshape)\n",
      "File \u001b[0;32m/localscratch/mambaforge/envs/cmls/lib/python3.9/site-packages/torch/utils/data/dataloader.py:633\u001b[0m, in \u001b[0;36m_BaseDataLoaderIter.__next__\u001b[0;34m(self)\u001b[0m\n\u001b[1;32m    630\u001b[0m \u001b[39mif\u001b[39;00m \u001b[39mself\u001b[39m\u001b[39m.\u001b[39m_sampler_iter \u001b[39mis\u001b[39;00m \u001b[39mNone\u001b[39;00m:\n\u001b[1;32m    631\u001b[0m     \u001b[39m# TODO(https://github.com/pytorch/pytorch/issues/76750)\u001b[39;00m\n\u001b[1;32m    632\u001b[0m     \u001b[39mself\u001b[39m\u001b[39m.\u001b[39m_reset()  \u001b[39m# type: ignore[call-arg]\u001b[39;00m\n\u001b[0;32m--> 633\u001b[0m data \u001b[39m=\u001b[39m \u001b[39mself\u001b[39;49m\u001b[39m.\u001b[39;49m_next_data()\n\u001b[1;32m    634\u001b[0m \u001b[39mself\u001b[39m\u001b[39m.\u001b[39m_num_yielded \u001b[39m+\u001b[39m\u001b[39m=\u001b[39m \u001b[39m1\u001b[39m\n\u001b[1;32m    635\u001b[0m \u001b[39mif\u001b[39;00m \u001b[39mself\u001b[39m\u001b[39m.\u001b[39m_dataset_kind \u001b[39m==\u001b[39m _DatasetKind\u001b[39m.\u001b[39mIterable \u001b[39mand\u001b[39;00m \\\n\u001b[1;32m    636\u001b[0m         \u001b[39mself\u001b[39m\u001b[39m.\u001b[39m_IterableDataset_len_called \u001b[39mis\u001b[39;00m \u001b[39mnot\u001b[39;00m \u001b[39mNone\u001b[39;00m \u001b[39mand\u001b[39;00m \\\n\u001b[1;32m    637\u001b[0m         \u001b[39mself\u001b[39m\u001b[39m.\u001b[39m_num_yielded \u001b[39m>\u001b[39m \u001b[39mself\u001b[39m\u001b[39m.\u001b[39m_IterableDataset_len_called:\n",
      "File \u001b[0;32m/localscratch/mambaforge/envs/cmls/lib/python3.9/site-packages/torch/utils/data/dataloader.py:1328\u001b[0m, in \u001b[0;36m_MultiProcessingDataLoaderIter._next_data\u001b[0;34m(self)\u001b[0m\n\u001b[1;32m   1325\u001b[0m     \u001b[39mreturn\u001b[39;00m \u001b[39mself\u001b[39m\u001b[39m.\u001b[39m_process_data(data)\n\u001b[1;32m   1327\u001b[0m \u001b[39massert\u001b[39;00m \u001b[39mnot\u001b[39;00m \u001b[39mself\u001b[39m\u001b[39m.\u001b[39m_shutdown \u001b[39mand\u001b[39;00m \u001b[39mself\u001b[39m\u001b[39m.\u001b[39m_tasks_outstanding \u001b[39m>\u001b[39m \u001b[39m0\u001b[39m\n\u001b[0;32m-> 1328\u001b[0m idx, data \u001b[39m=\u001b[39m \u001b[39mself\u001b[39;49m\u001b[39m.\u001b[39;49m_get_data()\n\u001b[1;32m   1329\u001b[0m \u001b[39mself\u001b[39m\u001b[39m.\u001b[39m_tasks_outstanding \u001b[39m-\u001b[39m\u001b[39m=\u001b[39m \u001b[39m1\u001b[39m\n\u001b[1;32m   1330\u001b[0m \u001b[39mif\u001b[39;00m \u001b[39mself\u001b[39m\u001b[39m.\u001b[39m_dataset_kind \u001b[39m==\u001b[39m _DatasetKind\u001b[39m.\u001b[39mIterable:\n\u001b[1;32m   1331\u001b[0m     \u001b[39m# Check for _IterableDatasetStopIteration\u001b[39;00m\n",
      "File \u001b[0;32m/localscratch/mambaforge/envs/cmls/lib/python3.9/site-packages/torch/utils/data/dataloader.py:1294\u001b[0m, in \u001b[0;36m_MultiProcessingDataLoaderIter._get_data\u001b[0;34m(self)\u001b[0m\n\u001b[1;32m   1290\u001b[0m     \u001b[39m# In this case, `self._data_queue` is a `queue.Queue`,. But we don't\u001b[39;00m\n\u001b[1;32m   1291\u001b[0m     \u001b[39m# need to call `.task_done()` because we don't use `.join()`.\u001b[39;00m\n\u001b[1;32m   1292\u001b[0m \u001b[39melse\u001b[39;00m:\n\u001b[1;32m   1293\u001b[0m     \u001b[39mwhile\u001b[39;00m \u001b[39mTrue\u001b[39;00m:\n\u001b[0;32m-> 1294\u001b[0m         success, data \u001b[39m=\u001b[39m \u001b[39mself\u001b[39;49m\u001b[39m.\u001b[39;49m_try_get_data()\n\u001b[1;32m   1295\u001b[0m         \u001b[39mif\u001b[39;00m success:\n\u001b[1;32m   1296\u001b[0m             \u001b[39mreturn\u001b[39;00m data\n",
      "File \u001b[0;32m/localscratch/mambaforge/envs/cmls/lib/python3.9/site-packages/torch/utils/data/dataloader.py:1132\u001b[0m, in \u001b[0;36m_MultiProcessingDataLoaderIter._try_get_data\u001b[0;34m(self, timeout)\u001b[0m\n\u001b[1;32m   1119\u001b[0m \u001b[39mdef\u001b[39;00m \u001b[39m_try_get_data\u001b[39m(\u001b[39mself\u001b[39m, timeout\u001b[39m=\u001b[39m_utils\u001b[39m.\u001b[39mMP_STATUS_CHECK_INTERVAL):\n\u001b[1;32m   1120\u001b[0m     \u001b[39m# Tries to fetch data from `self._data_queue` once for a given timeout.\u001b[39;00m\n\u001b[1;32m   1121\u001b[0m     \u001b[39m# This can also be used as inner loop of fetching without timeout, with\u001b[39;00m\n\u001b[0;32m   (...)\u001b[0m\n\u001b[1;32m   1129\u001b[0m     \u001b[39m# Returns a 2-tuple:\u001b[39;00m\n\u001b[1;32m   1130\u001b[0m     \u001b[39m#   (bool: whether successfully get data, any: data if successful else None)\u001b[39;00m\n\u001b[1;32m   1131\u001b[0m     \u001b[39mtry\u001b[39;00m:\n\u001b[0;32m-> 1132\u001b[0m         data \u001b[39m=\u001b[39m \u001b[39mself\u001b[39;49m\u001b[39m.\u001b[39;49m_data_queue\u001b[39m.\u001b[39;49mget(timeout\u001b[39m=\u001b[39;49mtimeout)\n\u001b[1;32m   1133\u001b[0m         \u001b[39mreturn\u001b[39;00m (\u001b[39mTrue\u001b[39;00m, data)\n\u001b[1;32m   1134\u001b[0m     \u001b[39mexcept\u001b[39;00m \u001b[39mException\u001b[39;00m \u001b[39mas\u001b[39;00m e:\n\u001b[1;32m   1135\u001b[0m         \u001b[39m# At timeout and error, we manually check whether any worker has\u001b[39;00m\n\u001b[1;32m   1136\u001b[0m         \u001b[39m# failed. Note that this is the only mechanism for Windows to detect\u001b[39;00m\n\u001b[1;32m   1137\u001b[0m         \u001b[39m# worker failures.\u001b[39;00m\n",
      "File \u001b[0;32m/localscratch/mambaforge/envs/cmls/lib/python3.9/multiprocessing/queues.py:113\u001b[0m, in \u001b[0;36mQueue.get\u001b[0;34m(self, block, timeout)\u001b[0m\n\u001b[1;32m    111\u001b[0m \u001b[39mif\u001b[39;00m block:\n\u001b[1;32m    112\u001b[0m     timeout \u001b[39m=\u001b[39m deadline \u001b[39m-\u001b[39m time\u001b[39m.\u001b[39mmonotonic()\n\u001b[0;32m--> 113\u001b[0m     \u001b[39mif\u001b[39;00m \u001b[39mnot\u001b[39;00m \u001b[39mself\u001b[39;49m\u001b[39m.\u001b[39;49m_poll(timeout):\n\u001b[1;32m    114\u001b[0m         \u001b[39mraise\u001b[39;00m Empty\n\u001b[1;32m    115\u001b[0m \u001b[39melif\u001b[39;00m \u001b[39mnot\u001b[39;00m \u001b[39mself\u001b[39m\u001b[39m.\u001b[39m_poll():\n",
      "File \u001b[0;32m/localscratch/mambaforge/envs/cmls/lib/python3.9/multiprocessing/connection.py:257\u001b[0m, in \u001b[0;36m_ConnectionBase.poll\u001b[0;34m(self, timeout)\u001b[0m\n\u001b[1;32m    255\u001b[0m \u001b[39mself\u001b[39m\u001b[39m.\u001b[39m_check_closed()\n\u001b[1;32m    256\u001b[0m \u001b[39mself\u001b[39m\u001b[39m.\u001b[39m_check_readable()\n\u001b[0;32m--> 257\u001b[0m \u001b[39mreturn\u001b[39;00m \u001b[39mself\u001b[39;49m\u001b[39m.\u001b[39;49m_poll(timeout)\n",
      "File \u001b[0;32m/localscratch/mambaforge/envs/cmls/lib/python3.9/multiprocessing/connection.py:424\u001b[0m, in \u001b[0;36mConnection._poll\u001b[0;34m(self, timeout)\u001b[0m\n\u001b[1;32m    423\u001b[0m \u001b[39mdef\u001b[39;00m \u001b[39m_poll\u001b[39m(\u001b[39mself\u001b[39m, timeout):\n\u001b[0;32m--> 424\u001b[0m     r \u001b[39m=\u001b[39m wait([\u001b[39mself\u001b[39;49m], timeout)\n\u001b[1;32m    425\u001b[0m     \u001b[39mreturn\u001b[39;00m \u001b[39mbool\u001b[39m(r)\n",
      "File \u001b[0;32m/localscratch/mambaforge/envs/cmls/lib/python3.9/multiprocessing/connection.py:931\u001b[0m, in \u001b[0;36mwait\u001b[0;34m(object_list, timeout)\u001b[0m\n\u001b[1;32m    928\u001b[0m     deadline \u001b[39m=\u001b[39m time\u001b[39m.\u001b[39mmonotonic() \u001b[39m+\u001b[39m timeout\n\u001b[1;32m    930\u001b[0m \u001b[39mwhile\u001b[39;00m \u001b[39mTrue\u001b[39;00m:\n\u001b[0;32m--> 931\u001b[0m     ready \u001b[39m=\u001b[39m selector\u001b[39m.\u001b[39;49mselect(timeout)\n\u001b[1;32m    932\u001b[0m     \u001b[39mif\u001b[39;00m ready:\n\u001b[1;32m    933\u001b[0m         \u001b[39mreturn\u001b[39;00m [key\u001b[39m.\u001b[39mfileobj \u001b[39mfor\u001b[39;00m (key, events) \u001b[39min\u001b[39;00m ready]\n",
      "File \u001b[0;32m/localscratch/mambaforge/envs/cmls/lib/python3.9/selectors.py:416\u001b[0m, in \u001b[0;36m_PollLikeSelector.select\u001b[0;34m(self, timeout)\u001b[0m\n\u001b[1;32m    414\u001b[0m ready \u001b[39m=\u001b[39m []\n\u001b[1;32m    415\u001b[0m \u001b[39mtry\u001b[39;00m:\n\u001b[0;32m--> 416\u001b[0m     fd_event_list \u001b[39m=\u001b[39m \u001b[39mself\u001b[39;49m\u001b[39m.\u001b[39;49m_selector\u001b[39m.\u001b[39;49mpoll(timeout)\n\u001b[1;32m    417\u001b[0m \u001b[39mexcept\u001b[39;00m \u001b[39mInterruptedError\u001b[39;00m:\n\u001b[1;32m    418\u001b[0m     \u001b[39mreturn\u001b[39;00m ready\n",
      "\u001b[0;31mKeyboardInterrupt\u001b[0m: "
     ]
    }
   ],
   "source": [
    "for i, batch in enumerate(dl):\n",
    "    print(i, batch.shape)"
   ]
  },
  {
   "cell_type": "code",
   "execution_count": null,
   "metadata": {},
   "outputs": [],
   "source": []
  },
  {
   "cell_type": "code",
   "execution_count": null,
   "metadata": {},
   "outputs": [],
   "source": []
  }
 ],
 "metadata": {
  "kernelspec": {
   "display_name": "Python 3.9.13 ('HDNn')",
   "language": "python",
   "name": "python3"
  },
  "language_info": {
   "codemirror_mode": {
    "name": "ipython",
    "version": 3
   },
   "file_extension": ".py",
   "mimetype": "text/x-python",
   "name": "python",
   "nbconvert_exporter": "python",
   "pygments_lexer": "ipython3",
   "version": "3.10.14"
  },
  "vscode": {
   "interpreter": {
    "hash": "faf8b084d52efbff00ddf863c4fb0ca7a3b023f9f18590a5b65c31dc02d793e2"
   }
  }
 },
 "nbformat": 4,
 "nbformat_minor": 2
}
