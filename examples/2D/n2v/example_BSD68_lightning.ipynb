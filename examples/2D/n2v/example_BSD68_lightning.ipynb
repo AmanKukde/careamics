{
 "cells": [
  {
   "cell_type": "code",
   "execution_count": 1,
   "metadata": {},
   "outputs": [
    {
     "name": "stderr",
     "output_type": "stream",
     "text": [
      "/localscratch/mambaforge/envs/light/lib/python3.9/site-packages/bioimageio/spec/shared/_resolve_source.py:437: CacheWarning: found cached /tmp/igor.zubarev/bioimageio_cache/https/raw.githubusercontent.com/bioimage-io/bioimage.io/main/site.config.json. Skipping download of https://raw.githubusercontent.com/bioimage-io/bioimage.io/main/site.config.json.\n",
      "  warnings.warn(f\"found cached {local_path}. Skipping download of {uri}.\", category=CacheWarning)\n",
      "/localscratch/mambaforge/envs/light/lib/python3.9/site-packages/bioimageio/spec/shared/_resolve_source.py:437: CacheWarning: found cached /tmp/igor.zubarev/bioimageio_cache/https/bioimage-io.github.io/collection-bioimage-io/collection.json. Skipping download of https://bioimage-io.github.io/collection-bioimage-io/collection.json.\n",
      "  warnings.warn(f\"found cached {local_path}. Skipping download of {uri}.\", category=CacheWarning)\n"
     ]
    },
    {
     "ename": "ImportError",
     "evalue": "cannot import name 'predict_tiled_simple' from 'careamics.lightning_module' (/home/igor.zubarev/projects/caremics/src/careamics/lightning_module.py)",
     "output_type": "error",
     "traceback": [
      "\u001b[0;31m---------------------------------------------------------------------------\u001b[0m",
      "\u001b[0;31mImportError\u001b[0m                               Traceback (most recent call last)",
      "Cell \u001b[0;32mIn[1], line 11\u001b[0m\n\u001b[1;32m      9\u001b[0m \u001b[39mfrom\u001b[39;00m \u001b[39mcareamics_portfolio\u001b[39;00m \u001b[39mimport\u001b[39;00m PortfolioManager\n\u001b[1;32m     10\u001b[0m \u001b[39mfrom\u001b[39;00m \u001b[39mcareamics\u001b[39;00m\u001b[39m.\u001b[39;00m\u001b[39mprediction\u001b[39;00m \u001b[39mimport\u001b[39;00m stitch_prediction\n\u001b[0;32m---> 11\u001b[0m \u001b[39mfrom\u001b[39;00m \u001b[39mcareamics\u001b[39;00m\u001b[39m.\u001b[39;00m\u001b[39mlightning_module\u001b[39;00m \u001b[39mimport\u001b[39;00m (\n\u001b[1;32m     12\u001b[0m     CAREamicsModule,\n\u001b[1;32m     13\u001b[0m     CAREamicsTrainValDataModule,\n\u001b[1;32m     14\u001b[0m     CAREamicsPredictDataModule,\n\u001b[1;32m     15\u001b[0m     CAREamicsFiring,\n\u001b[1;32m     16\u001b[0m     predict_tiled_simple,\n\u001b[1;32m     17\u001b[0m )\n\u001b[1;32m     18\u001b[0m \u001b[39mfrom\u001b[39;00m \u001b[39mcareamics\u001b[39;00m\u001b[39m.\u001b[39;00m\u001b[39mconfig\u001b[39;00m\u001b[39m.\u001b[39;00m\u001b[39mdata\u001b[39;00m \u001b[39mimport\u001b[39;00m DataModel\n\u001b[1;32m     19\u001b[0m \u001b[39mfrom\u001b[39;00m \u001b[39mcareamics\u001b[39;00m\u001b[39m.\u001b[39;00m\u001b[39mutils\u001b[39;00m\u001b[39m.\u001b[39;00m\u001b[39mmetrics\u001b[39;00m \u001b[39mimport\u001b[39;00m psnr\n",
      "\u001b[0;31mImportError\u001b[0m: cannot import name 'predict_tiled_simple' from 'careamics.lightning_module' (/home/igor.zubarev/projects/caremics/src/careamics/lightning_module.py)"
     ]
    }
   ],
   "source": [
    "from pathlib import Path\n",
    "\n",
    "import tifffile\n",
    "from typing import Union\n",
    "import matplotlib.pyplot as plt\n",
    "from pytorch_lightning import Trainer\n",
    "import albumentations as Aug\n",
    "\n",
    "from careamics_portfolio import PortfolioManager\n",
    "from careamics.prediction import stitch_prediction\n",
    "from careamics.lightning_module import (\n",
    "    CAREamicsModule,\n",
    "    CAREamicsTrainValDataModule,\n",
    "    CAREamicsPredictDataModule,\n",
    "    CAREamicsFiring,\n",
    "    predict_tiled_simple,\n",
    ")\n",
    "from careamics.config.data import DataModel\n",
    "from careamics.utils.metrics import psnr\n",
    "from careamics.dataset.dataset_utils import read_tiff\n",
    "from careamics.utils.transforms import ManipulateN2V"
   ]
  },
  {
   "cell_type": "code",
   "execution_count": 2,
   "metadata": {},
   "outputs": [
    {
     "data": {
      "text/plain": [
       "[10.44030650891055,\n",
       " 10.198039027185569,\n",
       " 10.04987562112089,\n",
       " 10.0,\n",
       " 10.04987562112089,\n",
       " 10.198039027185569,\n",
       " 10.44030650891055,\n",
       " 10.295630140987,\n",
       " 9.848857801796104,\n",
       " 9.848857801796104]"
      ]
     },
     "execution_count": 2,
     "metadata": {},
     "output_type": "execute_result"
    }
   ],
   "source": [
    "import numpy as np\n",
    "\n",
    "def calculate_border_distances(radius):\n",
    "    \"\"\"\n",
    "    Calculate the distances from the center of a circle with radius R to every pixel on its border.\n",
    "    \n",
    "    Parameters:\n",
    "    - radius: The radius of the circle.\n",
    "    \n",
    "    Returns:\n",
    "    A list of distances from the center to each border pixel.\n",
    "    \"\"\"\n",
    "    center = (radius + 1, radius + 1)  # Offset to avoid 0 index and fit the circle in the grid\n",
    "    grid_size = 2 * radius + 3  # Ensure the circle fits within the grid\n",
    "    border_distances = []\n",
    "    \n",
    "    for x in range(grid_size):\n",
    "        for y in range(grid_size):\n",
    "            # Calculate distance from this pixel to the center\n",
    "            distance = np.sqrt((x - center[0])**2 + (y - center[1])**2)\n",
    "            \n",
    "            # Check if this pixel is on the border of the circle\n",
    "            if radius - 0.5 < distance < radius + 0.5:\n",
    "                border_distances.append(distance)\n",
    "                \n",
    "    return border_distances\n",
    "\n",
    "# Example usage\n",
    "radius = 10\n",
    "border_distances = calculate_border_distances(radius)\n",
    "border_distances[:10]  # Display the first 10 distances\n"
   ]
  },
  {
   "attachments": {},
   "cell_type": "markdown",
   "metadata": {},
   "source": [
    "### Import Dataset Portfolio"
   ]
  },
  {
   "cell_type": "code",
   "execution_count": null,
   "metadata": {},
   "outputs": [],
   "source": [
    "# Explore portfolio\n",
    "portfolio = PortfolioManager()\n",
    "print(portfolio.denoising)"
   ]
  },
  {
   "cell_type": "code",
   "execution_count": null,
   "metadata": {},
   "outputs": [],
   "source": [
    "# Download and unzip the files\n",
    "root_path = Path(\"data\")\n",
    "files = portfolio.denoising.N2V_BSD68.download(root_path)\n",
    "print(f\"List of downloaded files: {files}\")"
   ]
  },
  {
   "cell_type": "code",
   "execution_count": null,
   "metadata": {},
   "outputs": [],
   "source": [
    "data_path = Path(root_path / \"denoising-N2V_BSD68.unzip/BSD68_reproducibility_data\")\n",
    "train_path = data_path / \"train\"\n",
    "val_path = data_path / \"val\"\n",
    "test_path = data_path / \"test\" / \"images\"\n",
    "gt_path = data_path / \"test\" / \"gt\"\n",
    "\n",
    "train_path.mkdir(parents=True, exist_ok=True)\n",
    "val_path.mkdir(parents=True, exist_ok=True)\n",
    "test_path.mkdir(parents=True, exist_ok=True)\n",
    "gt_path.mkdir(parents=True, exist_ok=True)"
   ]
  },
  {
   "attachments": {},
   "cell_type": "markdown",
   "metadata": {},
   "source": [
    "### Visualize training data"
   ]
  },
  {
   "cell_type": "code",
   "execution_count": null,
   "metadata": {},
   "outputs": [],
   "source": [
    "train_image = tifffile.imread(next(iter(train_path.rglob(\"*.tiff\"))))[0]\n",
    "print(f\"Train image shape: {train_image.shape}\")\n",
    "plt.imshow(train_image, cmap=\"gray\")"
   ]
  },
  {
   "attachments": {},
   "cell_type": "markdown",
   "metadata": {},
   "source": [
    "### Visualize validation data"
   ]
  },
  {
   "cell_type": "code",
   "execution_count": null,
   "metadata": {},
   "outputs": [],
   "source": [
    "val_image = tifffile.imread(next(iter(val_path.rglob(\"*.tiff\"))))[0]\n",
    "print(f\"Validation image shape: {val_image.shape}\")\n",
    "plt.imshow(val_image, cmap=\"gray\")"
   ]
  },
  {
   "attachments": {},
   "cell_type": "markdown",
   "metadata": {},
   "source": [
    "### Initialize the Model\n",
    "\n",
    "Create a Pytorch Lightning module\n",
    "\n",
    "Please take as look at the [documentation](https://careamics.github.io) to see the full list of parameters and configuration options"
   ]
  },
  {
   "cell_type": "code",
   "execution_count": null,
   "metadata": {},
   "outputs": [],
   "source": [
    "model = CAREamicsModule(\n",
    "    algorithm=\"n2v\",\n",
    "    loss=\"n2v\",\n",
    "    architecture=\"UNet\",\n",
    ")\n"
   ]
  },
  {
   "attachments": {},
   "cell_type": "markdown",
   "metadata": {},
   "source": [
    "### Define the Transforms"
   ]
  },
  {
   "cell_type": "code",
   "execution_count": null,
   "metadata": {},
   "outputs": [],
   "source": [
    "transforms = Aug.Compose(\n",
    "    [Aug.Flip(), Aug.RandomRotate90(), Aug.Normalize(), ManipulateN2V()],\n",
    ")"
   ]
  },
  {
   "attachments": {},
   "cell_type": "markdown",
   "metadata": {},
   "source": [
    "### Initialize the datamodule"
   ]
  },
  {
   "cell_type": "code",
   "execution_count": null,
   "metadata": {},
   "outputs": [],
   "source": [
    "train_data_module = CAREamicsTrainValDataModule(\n",
    "    train_path=train_path,\n",
    "    val_path=val_path,\n",
    "    data_type=\"tiff\",\n",
    "    patch_size=(64, 64),\n",
    "    axes=\"SYX\",\n",
    "    batch_size=128,\n",
    "    transforms=transforms,\n",
    "    num_workers=4,\n",
    ")"
   ]
  },
  {
   "attachments": {},
   "cell_type": "markdown",
   "metadata": {},
   "source": [
    "### Run training \n",
    "\n",
    "We need to specify the paths to training and validation data"
   ]
  },
  {
   "cell_type": "code",
   "execution_count": null,
   "metadata": {},
   "outputs": [],
   "source": [
    "trainer = Trainer(max_epochs=1)"
   ]
  },
  {
   "cell_type": "code",
   "execution_count": null,
   "metadata": {},
   "outputs": [],
   "source": [
    "trainer.fit(model, datamodule=train_data_module)"
   ]
  },
  {
   "attachments": {},
   "cell_type": "markdown",
   "metadata": {},
   "source": [
    "### Define a prediction datamodule"
   ]
  },
  {
   "cell_type": "code",
   "execution_count": null,
   "metadata": {},
   "outputs": [],
   "source": [
    "transforms_predict = Aug.Compose(\n",
    "    [Aug.Normalize()],\n",
    ")"
   ]
  },
  {
   "cell_type": "code",
   "execution_count": null,
   "metadata": {},
   "outputs": [],
   "source": [
    "pred_data_module = CAREamicsPredictDataModule(\n",
    "    pred_path=test_path,\n",
    "    data_type=\"tiff\",\n",
    "    tile_size=(256, 256),\n",
    "    axes=\"YX\",\n",
    "    batch_size=1,\n",
    "    num_workers=0,\n",
    "    transforms=transforms_predict,\n",
    ")"
   ]
  },
  {
   "attachments": {},
   "cell_type": "markdown",
   "metadata": {},
   "source": [
    "### Run prediction\n",
    "\n",
    "We need to specify the path to the data we want to denoise"
   ]
  },
  {
   "cell_type": "code",
   "execution_count": null,
   "metadata": {},
   "outputs": [],
   "source": [
    "tiled_loop = CAREamicsFiring(trainer)"
   ]
  },
  {
   "cell_type": "code",
   "execution_count": null,
   "metadata": {},
   "outputs": [],
   "source": [
    "trainer.predict_loop = tiled_loop"
   ]
  },
  {
   "cell_type": "code",
   "execution_count": null,
   "metadata": {},
   "outputs": [],
   "source": [
    "preds = trainer.predict(model, datamodule=pred_data_module)"
   ]
  },
  {
   "attachments": {},
   "cell_type": "markdown",
   "metadata": {},
   "source": [
    "### Visualize results and compute metrics\n"
   ]
  },
  {
   "cell_type": "code",
   "execution_count": null,
   "metadata": {},
   "outputs": [],
   "source": [
    "# Create a list of ground truth images\n",
    "\n",
    "gts = [tifffile.imread(f) for f in sorted(gt_path.glob(\"*.tiff\"))]"
   ]
  },
  {
   "cell_type": "code",
   "execution_count": null,
   "metadata": {},
   "outputs": [],
   "source": [
    "# Plot single image\n",
    "\n",
    "image_idx = 0\n",
    "_, subplot = plt.subplots(1, 2, figsize=(10, 10))\n",
    "\n",
    "subplot[0].imshow(preds[image_idx].squeeze(), cmap=\"gray\")\n",
    "subplot[0].set_title(\"Prediction\")\n",
    "subplot[1].imshow(gts[image_idx], cmap=\"gray\")\n",
    "subplot[1].set_title(\"Ground truth\")"
   ]
  },
  {
   "cell_type": "code",
   "execution_count": null,
   "metadata": {},
   "outputs": [],
   "source": [
    "# Calculate PSNR for single image\n",
    "\n",
    "psnr_single = psnr(gts[image_idx], preds[image_idx].squeeze())\n",
    "print(f\"PSNR for image {image_idx}: {psnr_single}\")"
   ]
  },
  {
   "cell_type": "code",
   "execution_count": null,
   "metadata": {},
   "outputs": [],
   "source": [
    "psnr_total = 0\n",
    "\n",
    "for pred, gt in zip(preds, gts):\n",
    "    psnr_total += psnr(gt, pred)\n",
    "\n",
    "print(f\"PSNR total: {psnr_total / len(preds)}\")"
   ]
  },
  {
   "cell_type": "code",
   "execution_count": null,
   "metadata": {},
   "outputs": [],
   "source": []
  }
 ],
 "metadata": {
  "kernelspec": {
   "display_name": "Python 3.11.3 ('caremics')",
   "language": "python",
   "name": "python3"
  },
  "language_info": {
   "codemirror_mode": {
    "name": "ipython",
    "version": 3
   },
   "file_extension": ".py",
   "mimetype": "text/x-python",
   "name": "python",
   "nbconvert_exporter": "python",
   "pygments_lexer": "ipython3",
   "version": "3.9.16"
  },
  "vscode": {
   "interpreter": {
    "hash": "0d2a5a3ab9ff26e8b66efec3883fa5121030bb852a7a4271db665831444e4e91"
   }
  }
 },
 "nbformat": 4,
 "nbformat_minor": 2
}
