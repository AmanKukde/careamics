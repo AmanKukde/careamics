{
 "cells": [
  {
   "cell_type": "code",
   "execution_count": 14,
   "metadata": {},
   "outputs": [],
   "source": [
    "from pathlib import Path\n",
    "from typing import Union\n",
    "\n",
    "import numpy as np\n",
    "from pytorch_lightning import Trainer\n",
    "from torch.utils.data import DataLoader, Dataset\n",
    "\n",
    "from careamics.lightning import CAREamicsModel\n",
    "from careamics.config.algorithm import Algorithm\n",
    "from careamics.config.data import Data\n"
   ]
  },
  {
   "cell_type": "code",
   "execution_count": 6,
   "metadata": {},
   "outputs": [],
   "source": [
    "# Algorithm configuration\n",
    "config_dict = {\n",
    "    \"algorithm_type\": \"n2v\",\n",
    "    \"model\": {\n",
    "        \"architecture\": \"UNet\",\n",
    "        \"is_3D\": False,\n",
    "        \"parameters\": {}\n",
    "    },\n",
    "    \"loss\": \"n2v\",\n",
    "    \"optimizer\": {\n",
    "        \"name\": \"Adam\",\n",
    "    },\n",
    "    \"lr_scheduler\": {\n",
    "        \"name\": \"ReduceLROnPlateau\"\n",
    "    },\n",
    "}\n",
    "\n",
    "# validate configuration\n",
    "config = Algorithm(**config_dict)"
   ]
  },
  {
   "cell_type": "code",
   "execution_count": 8,
   "metadata": {},
   "outputs": [],
   "source": [
    "# instantiate model\n",
    "model = CAREamicsModel(config)"
   ]
  },
  {
   "cell_type": "code",
   "execution_count": 9,
   "metadata": {},
   "outputs": [
    {
     "name": "stderr",
     "output_type": "stream",
     "text": [
      "GPU available: False, used: False\n",
      "TPU available: False, using: 0 TPU cores\n",
      "IPU available: False, using: 0 IPUs\n",
      "HPU available: False, using: 0 HPUs\n",
      "/Users/joran.deschamps/miniconda3/envs/careamics/lib/python3.8/site-packages/pytorch_lightning/trainer/connectors/logger_connector/logger_connector.py:67: Starting from v1.9.0, `tensorboardX` has been removed as a dependency of the `pytorch_lightning` package, due to potential conflicts with other packages in the ML ecosystem. For this reason, `logger=True` will use `CSVLogger` as the default logger, unless the `tensorboard` or `tensorboardX` packages are found. Please `pip install lightning[extra]` or one of them to enable TensorBoard support by default\n"
     ]
    }
   ],
   "source": [
    "# create trainer\n",
    "trainer = Trainer(max_epochs=1)"
   ]
  },
  {
   "cell_type": "markdown",
   "metadata": {},
   "source": [
    "### Possibility 1: Subclass CAREamics Dataset"
   ]
  },
  {
   "cell_type": "code",
   "execution_count": null,
   "metadata": {},
   "outputs": [],
   "source": [
    "# declare dataset using CAREamics (reader function passed as argument)\n",
    "def read_czi(path) -> np.ndarray:\n",
    "    return ...\n",
    "\n",
    "class CZIDataset(CAREamicsDataset):\n",
    " \n",
    "    def __init__(self, path: Union[str, Path], config: Data) -> None:\n",
    "        super().__init__(path, config, read_func=read_czi)\n",
    "\n",
    "# create data configuration\n",
    "data_config_dict = {\n",
    "    \"in_memory\": True,\n",
    "    \"dataloader\": \"Custom\", # as opposed to Zarr or Tif\n",
    "    \"patch_size\": [68, 68],\n",
    "    \"axes\": \"YX\",\n",
    "    \"transforms\": [\n",
    "        # any albumentations transform accepted\n",
    "        {\n",
    "            \"name\": \"RandomRotate90\",\n",
    "        },\n",
    "        {\n",
    "            \"name\": \"RandomFlip\",\n",
    "        },\n",
    "        # CAREamics N2V transform should come last\n",
    "        {\n",
    "            \"name\": \"ManipulateN2V\",\n",
    "            \"parameters\": {\n",
    "                \"roi_size\": 11,\n",
    "                \"masked_pixel_percentage\": 0.198,\n",
    "            }\n",
    "        },\n",
    "    ],\n",
    "}\n",
    "data_config = Data(**data_config_dict) # validate the configuration\n",
    "\n",
    "# instantiate dataloaders\n",
    "path_to_train_data = ...\n",
    "path_to_val_data = ...\n",
    "train_czi_dataloader = DataLoader(\n",
    "    CZIDataset(path_to_train_data, data_config_dict),\n",
    "    batch_size=64,\n",
    "    num_workers=4,\n",
    ")\n",
    "val_czi_dataloader = DataLoader(\n",
    "    CZIDataset(path_to_val_data, data_config_dict),\n",
    "    batch_size=1,\n",
    "    num_workers=0,\n",
    ")"
   ]
  },
  {
   "cell_type": "markdown",
   "metadata": {},
   "source": [
    "### Possibility 2: Pass your own CAREamics Dataset"
   ]
  },
  {
   "cell_type": "code",
   "execution_count": null,
   "metadata": {},
   "outputs": [],
   "source": [
    "# write your own Dataset class, ouput must be SC(Z)YX\n",
    "from careamics.augmentation import ManipulateN2V\n",
    "\n",
    "class CZIDataset(Dataset):\n",
    "\n",
    "    ... # call default_manipulate on your data\n",
    "\n",
    "path_to_train_data = ...\n",
    "path_to_val_data = ...\n",
    "train_czi_dataloader = DataLoader(\n",
    "    CZIDataset(...),\n",
    "    batch_size=64,\n",
    "    num_workers=4,\n",
    ")\n",
    "val_czi_dataloader = DataLoader(\n",
    "    CZIDataset(...),\n",
    "    batch_size=1,\n",
    "    num_workers=0,\n",
    ")"
   ]
  },
  {
   "cell_type": "markdown",
   "metadata": {},
   "source": [
    "### Train and predict using Lightning"
   ]
  },
  {
   "cell_type": "code",
   "execution_count": null,
   "metadata": {},
   "outputs": [],
   "source": [
    "# train model\n",
    "trainer.fit(model, train_czi_dataloader, val_czi_dataloader)"
   ]
  },
  {
   "cell_type": "code",
   "execution_count": null,
   "metadata": {},
   "outputs": [],
   "source": [
    "# predict\n",
    "path_to_pred_data = ...\n",
    "pred_czi_dataloader = DataLoader(CZIDataset(...))\n",
    "pred = trainer.predict(model, pred_czi_dataloader)"
   ]
  }
 ],
 "metadata": {
  "kernelspec": {
   "display_name": "careamics",
   "language": "python",
   "name": "python3"
  },
  "language_info": {
   "codemirror_mode": {
    "name": "ipython",
    "version": 3
   },
   "file_extension": ".py",
   "mimetype": "text/x-python",
   "name": "python",
   "nbconvert_exporter": "python",
   "pygments_lexer": "ipython3",
   "version": "3.8.17"
  }
 },
 "nbformat": 4,
 "nbformat_minor": 2
}
