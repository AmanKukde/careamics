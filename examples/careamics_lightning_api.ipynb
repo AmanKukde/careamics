{
 "cells": [
  {
   "cell_type": "code",
   "execution_count": null,
   "metadata": {},
   "outputs": [],
   "source": [
    "from pathlib import Path\n",
    "from typing import Union\n",
    "\n",
    "import numpy as np\n",
    "from pytorch_lightning import Trainer\n",
    "from torch.utils.data import DataLoader, Dataset\n",
    "\n",
    "from careamics_portfolio import PortfolioManager\n",
    "\n",
    "from careamics import CAREamicsModule\n",
    "from careamics.config.algorithm import AlgorithmModel\n",
    "from careamics.config.data import DataModel\n",
    "from careamics.dataset.in_memory_dataset import InMemoryDataset\n",
    "from careamics.dataset.iterable_dataset import IterableDataset\n"
   ]
  },
  {
   "cell_type": "code",
   "execution_count": null,
   "metadata": {},
   "outputs": [],
   "source": [
    "# Algorithm configuration\n",
    "config_dict = {\n",
    "    \"algorithm_type\": \"n2v\",\n",
    "    \"model\": {\n",
    "        \"architecture\": \"UNet\",\n",
    "        \"is_3D\": False,\n",
    "        \"parameters\": {}\n",
    "    },\n",
    "    \"loss\": \"n2v\",\n",
    "    \"optimizer\": {\n",
    "        \"name\": \"Adam\",\n",
    "    },\n",
    "    \"lr_scheduler\": {\n",
    "        \"name\": \"ReduceLROnPlateau\"\n",
    "    },\n",
    "}\n",
    "\n",
    "# validate configuration\n",
    "config = AlgorithmModel(**config_dict)"
   ]
  },
  {
   "cell_type": "code",
   "execution_count": null,
   "metadata": {},
   "outputs": [],
   "source": [
    "# instantiate model\n",
    "model = CAREamicsModule(config)"
   ]
  },
  {
   "cell_type": "code",
   "execution_count": null,
   "metadata": {},
   "outputs": [],
   "source": [
    "# create trainer\n",
    "trainer = Trainer(max_epochs=1)"
   ]
  },
  {
   "attachments": {},
   "cell_type": "markdown",
   "metadata": {},
   "source": [
    "### Possibility 1: Subclass CAREamics Dataset"
   ]
  },
  {
   "cell_type": "code",
   "execution_count": null,
   "metadata": {},
   "outputs": [],
   "source": [
    "# declare dataset using CAREamics (reader function passed as argument)\n",
    "from careamics.dataset.dataset_utils import read_tiff\n",
    "\n",
    "def read_czi(path) -> np.ndarray:\n",
    "    return ...\n",
    "\n",
    "class CZIDataset(InMemoryDataset):\n",
    " \n",
    "    def __init__(self, path: Union[str, Path], config: DataModel) -> None:\n",
    "        super().__init__(data_path=path, data=config, read_source_func=read_tiff)\n",
    "\n",
    "# create data configuration\n",
    "data_config_dict = {\n",
    "    \"in_memory\": True,\n",
    "    \"data_format\": \"tiff\", # as opposed to Zarr or Tif\n",
    "    \"patch_size\": [64, 64],\n",
    "    \"axes\": \"SYX\",\n",
    "    \"transforms\": [\n",
    "        # any albumentations transform accepted\n",
    "        {\n",
    "            \"name\": \"RandomRotate90\",\n",
    "        },\n",
    "        {\n",
    "            \"name\": \"Flip\",\n",
    "        },\n",
    "        {   \n",
    "            \"name\": \"Normalize\",\n",
    "        },\n",
    "        # CAREamics N2V transform should come last\n",
    "        {\n",
    "            \"name\": \"ManipulateN2V\",\n",
    "            \"parameters\": {\n",
    "                \"roi_size\": 11,\n",
    "                \"masked_pixel_percentage\": 0.198,\n",
    "            }\n",
    "        },\n",
    "    ],\n",
    "}\n",
    "data_config = DataModel(**data_config_dict) # validate the configuration\n"
   ]
  },
  {
   "cell_type": "code",
   "execution_count": null,
   "metadata": {},
   "outputs": [],
   "source": [
    "# Explore portfolio\n",
    "portfolio = PortfolioManager()\n",
    "print(portfolio.denoising)\n",
    "\n",
    "# Download and unzip the files\n",
    "root_path = Path(\"data\")\n",
    "files = portfolio.denoising.N2V_BSD68.download(root_path)\n",
    "print(f\"List of downloaded files: {files}\")\n",
    "\n",
    "data_path = Path(root_path / \"denoising-N2V_BSD68.unzip/BSD68_reproducibility_data\")\n",
    "train_path = data_path / \"train\"\n",
    "val_path = data_path / \"val\"\n",
    "\n",
    "train_path.mkdir(parents=True, exist_ok=True)\n",
    "val_path.mkdir(parents=True, exist_ok=True)"
   ]
  },
  {
   "cell_type": "code",
   "execution_count": null,
   "metadata": {},
   "outputs": [],
   "source": [
    "# instantiate dataloaders\n",
    "\n",
    "train_czi_dataloader = DataLoader(\n",
    "    CZIDataset(train_path, data_config),\n",
    "    batch_size=64,\n",
    "    num_workers=4,\n",
    ")\n",
    "val_czi_dataloader = DataLoader(\n",
    "    CZIDataset(val_path, data_config),\n",
    "    batch_size=1,\n",
    "    num_workers=0,\n",
    ")"
   ]
  },
  {
   "attachments": {},
   "cell_type": "markdown",
   "metadata": {},
   "source": [
    "### Possibility 2: Pass your own CAREamics Dataset"
   ]
  },
  {
   "cell_type": "code",
   "execution_count": null,
   "metadata": {},
   "outputs": [],
   "source": [
    "# write your own Dataset class, ouput must be SC(Z)YX\n",
    "from careamics.transforms import ManipulateN2V\n",
    "\n",
    "class CZIDataset(Dataset):\n",
    "\n",
    "    ... # call default_manipulate on your data\n",
    "\n",
    "path_to_train_data = ...\n",
    "path_to_val_data = ...\n",
    "train_czi_dataloader = DataLoader(\n",
    "    CZIDataset(...),\n",
    "    batch_size=64,\n",
    "    num_workers=4,\n",
    ")\n",
    "val_czi_dataloader = DataLoader(\n",
    "    CZIDataset(...),\n",
    "    batch_size=1,\n",
    "    num_workers=0,\n",
    ")"
   ]
  },
  {
   "attachments": {},
   "cell_type": "markdown",
   "metadata": {},
   "source": [
    "### Train and predict using Lightning"
   ]
  },
  {
   "cell_type": "code",
   "execution_count": null,
   "metadata": {},
   "outputs": [],
   "source": [
    "# train model\n",
    "trainer.fit(model, train_czi_dataloader, val_czi_dataloader)"
   ]
  },
  {
   "cell_type": "code",
   "execution_count": null,
   "metadata": {},
   "outputs": [],
   "source": [
    "# predict\n",
    "path_to_pred_data = ...\n",
    "\n",
    "\n",
    "class CZIPredictionDataset(IterableDataset):\n",
    "\n",
    "    def __init__(self, path: Union[str, Path], config: DataModel) -> None:\n",
    "        super().__init__(data_path=path, data=config, read_source_func=read_czi)\n",
    "\n",
    "\n",
    "pred_czi_dataloader = DataLoader(\n",
    "    CZIPredictionDataset(path_to_pred_data, data_config),\n",
    "    batch_size=1,\n",
    "    num_workers=0,)"
   ]
  },
  {
   "cell_type": "code",
   "execution_count": null,
   "metadata": {},
   "outputs": [],
   "source": [
    "pred = trainer.predict(model, pred_czi_dataloader)"
   ]
  },
  {
   "cell_type": "code",
   "execution_count": null,
   "metadata": {},
   "outputs": [],
   "source": [
    "from careamics.prediction.prediction_utils import stitch_prediction\n",
    "\n",
    "\n",
    "# stitch prediction\n",
    "stitched_prediction = stitch_prediction(pred)"
   ]
  },
  {
   "cell_type": "code",
   "execution_count": null,
   "metadata": {},
   "outputs": [],
   "source": []
  }
 ],
 "metadata": {
  "kernelspec": {
   "display_name": "careamics",
   "language": "python",
   "name": "python3"
  },
  "language_info": {
   "codemirror_mode": {
    "name": "ipython",
    "version": 3
   },
   "file_extension": ".py",
   "mimetype": "text/x-python",
   "name": "python",
   "nbconvert_exporter": "python",
   "pygments_lexer": "ipython3",
   "version": "3.9.16"
  }
 },
 "nbformat": 4,
 "nbformat_minor": 2
}
