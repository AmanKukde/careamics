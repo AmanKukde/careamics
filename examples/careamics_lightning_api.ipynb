{
 "cells": [
  {
   "cell_type": "code",
   "execution_count": null,
   "metadata": {},
   "outputs": [],
   "source": [
    "import albumentations as Aug\n",
    "from pytorch_lightning import Trainer\n",
    "\n",
    "from careamics import (\n",
    "    CAREamicsModule,\n",
    "    CAREamicsTrainDataModule,\n",
    ")\n",
    "from careamics.transforms import ManipulateN2V"
   ]
  },
  {
   "cell_type": "code",
   "execution_count": null,
   "metadata": {},
   "outputs": [],
   "source": [
    "# Instantiate ligthning module\n",
    "model = CAREamicsModule(\n",
    "    algorithm=\"n2v\",\n",
    "    loss=\"n2v\",\n",
    "    architecture=\"UNet\",\n",
    "    model_parameters={\n",
    "        # parameters such as depth, n2v2, etc. See UNet definition.\n",
    "    },\n",
    "    optimizer=\"Adam\",  # see SupportedOptimizer\n",
    "    optimizer_parameters={\n",
    "        \"lr\": 1e-4,\n",
    "        # parameters from torch.optim\n",
    "    },\n",
    "    lr_scheduler=\"ReduceLROnPlateau\",  # see SupportedLRScheduler\n",
    "    lr_scheduler_parameters={\n",
    "        # parameters from torch.optim.lr_scheduler\n",
    "    },\n",
    ")"
   ]
  },
  {
   "cell_type": "code",
   "execution_count": null,
   "metadata": {},
   "outputs": [],
   "source": [
    "# Create trainer\n",
    "trainer = Trainer(max_epochs=50)"
   ]
  },
  {
   "attachments": {},
   "cell_type": "markdown",
   "metadata": {},
   "source": [
    "### Possibility 1: Use CAREamics data module"
   ]
  },
  {
   "cell_type": "code",
   "execution_count": null,
   "metadata": {},
   "outputs": [],
   "source": [
    "# define function to read data\n",
    "\n",
    "\n",
    "def read_my_data_type(file):\n",
    "    pass\n",
    "\n",
    "\n",
    "# Create your transforms using albumentations\n",
    "transforms = Aug.Compose(\n",
    "    [Aug.Flip(), Aug.RandomRotate90(), Aug.Normalize(), ManipulateN2V()],\n",
    ")\n",
    "\n",
    "# Instantiate data module\n",
    "train_path = ...\n",
    "val_path = ...\n",
    "\n",
    "train_data_module = CAREamicsTrainDataModule(\n",
    "    train_path=train_path,\n",
    "    val_path=val_path,\n",
    "    data_type=\"custom\",  # this forces read_source_func to be specified\n",
    "    patch_size=(64, 64),\n",
    "    axes=\"SYX\",\n",
    "    batch_size=128,\n",
    "    transforms=transforms,\n",
    "    num_workers=4,\n",
    "    read_source_func=read_my_data_type,  # function to read data\n",
    ")"
   ]
  },
  {
   "attachments": {},
   "cell_type": "markdown",
   "metadata": {},
   "source": [
    "### Possibility 2: Pass your own Dataset"
   ]
  },
  {
   "cell_type": "code",
   "execution_count": null,
   "metadata": {},
   "outputs": [],
   "source": [
    "# Write youn own lightning data module\n",
    "train_data_module = ..."
   ]
  },
  {
   "attachments": {},
   "cell_type": "markdown",
   "metadata": {},
   "source": [
    "### Train and predict using Lightning"
   ]
  },
  {
   "cell_type": "code",
   "execution_count": null,
   "metadata": {},
   "outputs": [],
   "source": [
    "# train model\n",
    "trainer.fit(model, datamodule=train_data_module)"
   ]
  },
  {
   "cell_type": "code",
   "execution_count": null,
   "metadata": {},
   "outputs": [],
   "source": [
    "# predict\n",
    "path_to_pred_data = ...\n",
    "pred_dataloader = ...\n",
    "\n",
    "pred = trainer.predict(model, pred_dataloader)"
   ]
  }
 ],
 "metadata": {
  "kernelspec": {
   "display_name": "careamics",
   "language": "python",
   "name": "python3"
  },
  "language_info": {
   "codemirror_mode": {
    "name": "ipython",
    "version": 3
   },
   "file_extension": ".py",
   "mimetype": "text/x-python",
   "name": "python",
   "nbconvert_exporter": "python",
   "pygments_lexer": "ipython3",
   "version": "3.8.17"
  }
 },
 "nbformat": 4,
 "nbformat_minor": 2
}
