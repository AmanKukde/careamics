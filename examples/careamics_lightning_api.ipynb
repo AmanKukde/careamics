{
 "cells": [
  {
   "cell_type": "code",
   "execution_count": 1,
   "metadata": {},
   "outputs": [
    {
     "name": "stderr",
     "output_type": "stream",
     "text": [
      "/Users/joran.deschamps/miniconda3/envs/careamics/lib/python3.8/site-packages/bioimageio/spec/shared/_resolve_source.py:437: CacheWarning: found cached /var/folders/g8/92r7j4_x0tvg2hn1rl_pd3f40000gp/T/joran.deschamps/bioimageio_cache/https/raw.githubusercontent.com/bioimage-io/bioimage.io/main/site.config.json. Skipping download of https://raw.githubusercontent.com/bioimage-io/bioimage.io/main/site.config.json.\n",
      "  warnings.warn(f\"found cached {local_path}. Skipping download of {uri}.\", category=CacheWarning)\n",
      "/Users/joran.deschamps/miniconda3/envs/careamics/lib/python3.8/site-packages/bioimageio/spec/shared/_resolve_source.py:437: CacheWarning: found cached /var/folders/g8/92r7j4_x0tvg2hn1rl_pd3f40000gp/T/joran.deschamps/bioimageio_cache/https/bioimage-io.github.io/collection-bioimage-io/collection.json. Skipping download of https://bioimage-io.github.io/collection-bioimage-io/collection.json.\n",
      "  warnings.warn(f\"found cached {local_path}. Skipping download of {uri}.\", category=CacheWarning)\n"
     ]
    }
   ],
   "source": [
    "from pathlib import Path\n",
    "from typing import Union\n",
    "\n",
    "import numpy as np\n",
    "from pytorch_lightning import Trainer\n",
    "from torch.utils.data import DataLoader, Dataset\n",
    "\n",
    "from careamics_portfolio import PortfolioManager\n",
    "\n",
    "from careamics import CAREamicsModule\n",
    "from careamics.config.data import DataModel\n",
    "from careamics.dataset.in_memory_dataset import InMemoryDataset\n",
    "from careamics.dataset.iterable_dataset import IterableDataset\n"
   ]
  },
  {
   "cell_type": "code",
   "execution_count": 7,
   "metadata": {},
   "outputs": [],
   "source": [
    "# Instantiate ligthning module\n",
    "model = CAREamicsModule(\n",
    "    algorithm=\"n2v\",\n",
    "    loss=\"n2v\", \n",
    "    architecture=\"UNet\",\n",
    "    model_parameters={\n",
    "        # parameters such as depth, n2v2, etc. See UNet definition.\n",
    "    },\n",
    "    optimizer=\"Adam\", # see SupportedOptimizer\n",
    "    optimizer_parameters={\n",
    "        \"lr\": 1e-4,\n",
    "        # parameters from torch.optim\n",
    "    },\n",
    "    lr_scheduler=\"ReduceLROnPlateau\", # see SupportedLRScheduler\n",
    "    lr_scheduler_parameters={\n",
    "        # parameters from torch.optim.lr_scheduler\n",
    "    }\n",
    ")"
   ]
  },
  {
   "cell_type": "code",
   "execution_count": 8,
   "metadata": {},
   "outputs": [
    {
     "name": "stderr",
     "output_type": "stream",
     "text": [
      "GPU available: False, used: False\n",
      "TPU available: False, using: 0 TPU cores\n",
      "IPU available: False, using: 0 IPUs\n",
      "HPU available: False, using: 0 HPUs\n",
      "/Users/joran.deschamps/miniconda3/envs/careamics/lib/python3.8/site-packages/pytorch_lightning/trainer/connectors/logger_connector/logger_connector.py:67: Starting from v1.9.0, `tensorboardX` has been removed as a dependency of the `pytorch_lightning` package, due to potential conflicts with other packages in the ML ecosystem. For this reason, `logger=True` will use `CSVLogger` as the default logger, unless the `tensorboard` or `tensorboardX` packages are found. Please `pip install lightning[extra]` or one of them to enable TensorBoard support by default\n"
     ]
    }
   ],
   "source": [
    "# Create trainer\n",
    "trainer = Trainer(max_epochs=1)"
   ]
  },
  {
   "attachments": {},
   "cell_type": "markdown",
   "metadata": {},
   "source": [
    "### Possibility 1: Subclass CAREamics Dataset"
   ]
  },
  {
   "cell_type": "code",
   "execution_count": null,
   "metadata": {},
   "outputs": [],
   "source": [
    "# declare dataset using CAREamics (reader function passed as argument)\n",
    "from careamics.dataset.dataset_utils import read_tiff\n",
    "\n",
    "def read_czi(path) -> np.ndarray:\n",
    "    return ...\n",
    "\n",
    "class CZIDataset(InMemoryDataset):\n",
    " \n",
    "    def __init__(self, path: Union[str, Path], config: DataModel) -> None:\n",
    "        super().__init__(data_path=path, data=config, read_source_func=read_tiff)\n",
    "\n",
    "# create data configuration\n",
    "data_config_dict = {\n",
    "    \"in_memory\": True,\n",
    "    \"data_format\": \"tiff\", # currently only one working\n",
    "    \"patch_size\": [64, 64],\n",
    "    \"axes\": \"SYX\",\n",
    "    \"transforms\": [\n",
    "        # any albumentations transform accepted\n",
    "        {\n",
    "            \"name\": \"RandomRotate90\",\n",
    "        },\n",
    "        {\n",
    "            \"name\": \"Flip\",\n",
    "        },\n",
    "        {   \n",
    "            \"name\": \"Normalize\",\n",
    "        },\n",
    "        # CAREamics N2V transform should come last\n",
    "        {\n",
    "            \"name\": \"ManipulateN2V\",\n",
    "            \"parameters\": {\n",
    "                \"roi_size\": 11,\n",
    "                \"masked_pixel_percentage\": 0.198,\n",
    "            }\n",
    "        },\n",
    "    ],\n",
    "}\n",
    "data_config = DataModel(**data_config_dict) # validate the configuration\n"
   ]
  },
  {
   "cell_type": "code",
   "execution_count": 10,
   "metadata": {},
   "outputs": [
    {
     "name": "stdout",
     "output_type": "stream",
     "text": [
      "List of downloaded files: ['/Users/joran.deschamps/git/careamics/careamics/examples/data/denoising-N2V_BSD68.unzip/BSD68_reproducibility_data/test/bsd68_gaussian25.npy', '/Users/joran.deschamps/git/careamics/careamics/examples/data/denoising-N2V_BSD68.unzip/BSD68_reproducibility_data/test/bsd68_groundtruth.npy', '/Users/joran.deschamps/git/careamics/careamics/examples/data/denoising-N2V_BSD68.unzip/BSD68_reproducibility_data/train/DCNN400_train_gaussian25.npy', '/Users/joran.deschamps/git/careamics/careamics/examples/data/denoising-N2V_BSD68.unzip/BSD68_reproducibility_data/val/DCNN400_validation_gaussian25.npy']\n"
     ]
    }
   ],
   "source": [
    "# We use the portfolio to download example data\n",
    "portfolio = PortfolioManager()\n",
    "\n",
    "root_path = Path(\"data\")\n",
    "files = portfolio.denoising.N2V_BSD68.download(root_path)\n",
    "print(f\"List of downloaded files: {files}\")\n",
    "\n",
    "data_path = Path(root_path / \"denoising-N2V_BSD68.unzip/BSD68_reproducibility_data\")\n",
    "train_path = data_path / \"train\"\n",
    "val_path = data_path / \"val\""
   ]
  },
  {
   "cell_type": "code",
   "execution_count": null,
   "metadata": {},
   "outputs": [],
   "source": [
    "# instantiate dataloaders\n",
    "\n",
    "train_czi_dataloader = DataLoader(\n",
    "    CZIDataset(train_path, data_config),\n",
    "    batch_size=64,\n",
    "    num_workers=4,\n",
    ")\n",
    "val_czi_dataloader = DataLoader(\n",
    "    CZIDataset(val_path, data_config),\n",
    "    batch_size=1,\n",
    "    num_workers=0,\n",
    ")"
   ]
  },
  {
   "attachments": {},
   "cell_type": "markdown",
   "metadata": {},
   "source": [
    "### Possibility 2: Pass your own Dataset"
   ]
  },
  {
   "cell_type": "code",
   "execution_count": null,
   "metadata": {},
   "outputs": [],
   "source": [
    "# write your own Dataset class, ouput must be SC(Z)YX\n",
    "from careamics.transforms import ManipulateN2V\n",
    "\n",
    "class CZIDataset(Dataset):\n",
    "\n",
    "    ... # call default_manipulate on your data\n",
    "\n",
    "path_to_train_data = ...\n",
    "path_to_val_data = ...\n",
    "train_czi_dataloader = DataLoader(\n",
    "    CZIDataset(...),\n",
    "    batch_size=64,\n",
    "    num_workers=4,\n",
    ")\n",
    "val_czi_dataloader = DataLoader(\n",
    "    CZIDataset(...),\n",
    "    batch_size=1,\n",
    "    num_workers=0,\n",
    ")"
   ]
  },
  {
   "attachments": {},
   "cell_type": "markdown",
   "metadata": {},
   "source": [
    "### Train and predict using Lightning"
   ]
  },
  {
   "cell_type": "code",
   "execution_count": null,
   "metadata": {},
   "outputs": [],
   "source": [
    "# train model\n",
    "trainer.fit(model, train_czi_dataloader, val_czi_dataloader)"
   ]
  },
  {
   "cell_type": "code",
   "execution_count": null,
   "metadata": {},
   "outputs": [],
   "source": [
    "# predict\n",
    "path_to_pred_data = ...\n",
    "\n",
    "\n",
    "class CZIPredictionDataset(IterableDataset):\n",
    "\n",
    "    def __init__(self, path: Union[str, Path], config: DataModel) -> None:\n",
    "        super().__init__(data_path=path, data=config, read_source_func=read_czi)\n",
    "\n",
    "\n",
    "pred_czi_dataloader = DataLoader(\n",
    "    CZIPredictionDataset(path_to_pred_data, data_config),\n",
    "    batch_size=1,\n",
    "    num_workers=0,)"
   ]
  },
  {
   "cell_type": "code",
   "execution_count": null,
   "metadata": {},
   "outputs": [],
   "source": [
    "pred = trainer.predict(model, pred_czi_dataloader)"
   ]
  }
 ],
 "metadata": {
  "kernelspec": {
   "display_name": "careamics",
   "language": "python",
   "name": "python3"
  },
  "language_info": {
   "codemirror_mode": {
    "name": "ipython",
    "version": 3
   },
   "file_extension": ".py",
   "mimetype": "text/x-python",
   "name": "python",
   "nbconvert_exporter": "python",
   "pygments_lexer": "ipython3",
   "version": "3.8.17"
  }
 },
 "nbformat": 4,
 "nbformat_minor": 2
}
