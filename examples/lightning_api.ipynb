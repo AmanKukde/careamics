{
 "cells": [
  {
   "cell_type": "code",
   "execution_count": 5,
   "metadata": {},
   "outputs": [],
   "source": [
    "from careamics import CAREamist, Configuration\n"
   ]
  },
  {
   "cell_type": "code",
   "execution_count": 10,
   "metadata": {},
   "outputs": [],
   "source": [
    "config_dict ={\n",
    "    \"experiment_name\": \"ConfigTest\",\n",
    "    \"working_directory\": \".\",\n",
    "    \"algorithm\": {\n",
    "        \"algorithm_type\": \"n2v\",\n",
    "        \"model\": {\n",
    "           \"architecture\": \"UNet\",\n",
    "        },\n",
    "        \"loss\": \"n2v\",\n",
    "        \"is_3D\": False,\n",
    "        \"transforms\": {\n",
    "            \"ManipulateN2V\": \"\"\n",
    "        }\n",
    "    },\n",
    "    \"training\": {\n",
    "        \"num_epochs\": 42,\n",
    "        \"batch_size\": 16,\n",
    "        \"patch_size\": [64, 64],\n",
    "        \"optimizer\": {\n",
    "            \"name\": \"Adam\",\n",
    "        },\n",
    "        \"lr_scheduler\": {\n",
    "            \"name\": \"ReduceLROnPlateau\"\n",
    "        },\n",
    "        \"augmentation\": True,\n",
    "    },\n",
    "    \"data\": {\n",
    "        \"in_memory\": True,\n",
    "        \"data_format\": \"tif\",\n",
    "        \"axes\": \"SYX\",\n",
    "    },\n",
    "}\n",
    "config = Configuration(**config_dict)"
   ]
  },
  {
   "cell_type": "code",
   "execution_count": 12,
   "metadata": {},
   "outputs": [
    {
     "name": "stderr",
     "output_type": "stream",
     "text": [
      "Engine initialized from configuration\n",
      "GPU available: False, used: False\n",
      "TPU available: False, using: 0 TPU cores\n",
      "IPU available: False, using: 0 IPUs\n",
      "HPU available: False, using: 0 HPUs\n",
      "/Users/joran.deschamps/miniconda3/envs/careamics/lib/python3.8/site-packages/pytorch_lightning/trainer/connectors/logger_connector/logger_connector.py:67: Starting from v1.9.0, `tensorboardX` has been removed as a dependency of the `pytorch_lightning` package, due to potential conflicts with other packages in the ML ecosystem. For this reason, `logger=True` will use `CSVLogger` as the default logger, unless the `tensorboard` or `tensorboardX` packages are found. Please `pip install lightning[extra]` or one of them to enable TensorBoard support by default\n"
     ]
    }
   ],
   "source": [
    "careamist = CAREamist(configuration=config)"
   ]
  },
  {
   "cell_type": "code",
   "execution_count": null,
   "metadata": {},
   "outputs": [],
   "source": [
    "train_data = \"examples/2D/data/n2v_sem/train/train_image.tif\"\n",
    "val_data = \"examples/2D/data/n2v_sem/train/val_image.tif\"\n",
    "\n",
    "careamist.train(train_data, val_data)"
   ]
  }
 ],
 "metadata": {
  "kernelspec": {
   "display_name": "careamics",
   "language": "python",
   "name": "python3"
  },
  "language_info": {
   "codemirror_mode": {
    "name": "ipython",
    "version": 3
   },
   "file_extension": ".py",
   "mimetype": "text/x-python",
   "name": "python",
   "nbconvert_exporter": "python",
   "pygments_lexer": "ipython3",
   "version": "3.8.17"
  }
 },
 "nbformat": 4,
 "nbformat_minor": 2
}
