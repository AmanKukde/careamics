{
 "cells": [
  {
   "cell_type": "code",
   "execution_count": null,
   "metadata": {},
   "outputs": [],
   "source": [
    "import matplotlib.pyplot as plt\n",
    "import numpy as np"
   ]
  },
  {
   "cell_type": "code",
   "execution_count": null,
   "metadata": {},
   "outputs": [],
   "source": [
    "from careamics.dataset_ng.patch_extractor import PatchExtractor\n",
    "from careamics.dataset_ng.patch_extractor.image_stack import InMemoryImageStack\n",
    "from careamics.dataset_ng.patching_strategies import RandomPatchSpecsGenerator"
   ]
  },
  {
   "cell_type": "code",
   "execution_count": null,
   "metadata": {},
   "outputs": [],
   "source": [
    "array = np.arange(36).reshape(6, 6)\n",
    "image_stack = InMemoryImageStack.from_array(data=array, axes=\"YX\")\n",
    "image_stack.extract_patch(sample_idx=0, coords=(2, 2), patch_size=(3, 3))"
   ]
  },
  {
   "cell_type": "code",
   "execution_count": null,
   "metadata": {},
   "outputs": [],
   "source": [
    "rng = np.random.default_rng()"
   ]
  },
  {
   "cell_type": "code",
   "execution_count": null,
   "metadata": {},
   "outputs": [],
   "source": [
    "data_path = \"/home/igor.zubarev/projects/microSplit-reproducibility/examples/2D/custom_test/data\""
   ]
  },
  {
   "cell_type": "code",
   "execution_count": null,
   "metadata": {},
   "outputs": [],
   "source": [
    "# define example readers\n",
    "# input_patch_extractor = PatchExtractor.from_tiff_files([array1, array2], axes=\"SYX\")\n",
    "target_patch_extractor = PatchExtractor.from_tiff_files(data_path, axes=\"YX\")"
   ]
  },
  {
   "cell_type": "code",
   "execution_count": null,
   "metadata": {},
   "outputs": [],
   "source": [
    "# generate random patch specification\n",
    "data_shapes = [\n",
    "    image_stack.data_shape for image_stack in target_patch_extractor.image_stacks\n",
    "]\n",
    "patch_specs_generator = RandomPatchSpecsGenerator(patch_size=(256, 256), random_seed=42)\n",
    "patch_specs = patch_specs_generator.generate(data_shapes=data_shapes)\n",
    "patch_specs[:5]"
   ]
  },
  {
   "cell_type": "code",
   "execution_count": null,
   "metadata": {},
   "outputs": [],
   "source": [
    "patches = target_patch_extractor.extract_patches(patch_specs[7:11])"
   ]
  },
  {
   "cell_type": "code",
   "execution_count": null,
   "metadata": {},
   "outputs": [],
   "source": [
    "plt.imshow(patches[2].squeeze(), cmap=\"gray\")"
   ]
  },
  {
   "cell_type": "code",
   "execution_count": null,
   "metadata": {},
   "outputs": [],
   "source": []
  }
 ],
 "metadata": {
  "kernelspec": {
   "display_name": "Python 3",
   "language": "python",
   "name": "python3"
  },
  "language_info": {
   "codemirror_mode": {
    "name": "ipython",
    "version": 3
   },
   "file_extension": ".py",
   "mimetype": "text/x-python",
   "name": "python",
   "nbconvert_exporter": "python",
   "pygments_lexer": "ipython3",
   "version": "3.10.14"
  }
 },
 "nbformat": 4,
 "nbformat_minor": 2
}
